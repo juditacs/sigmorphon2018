{
 "cells": [
  {
   "cell_type": "code",
   "execution_count": 1,
   "metadata": {},
   "outputs": [],
   "source": [
    "import pandas as pd\n",
    "import matplotlib.pyplot as plt\n",
    "import matplotlib\n",
    "import numpy as np\n",
    "import os\n",
    "import yaml\n",
    "import shutil\n",
    "from collections import defaultdict\n",
    "\n",
    "matplotlib.style.use('seaborn-notebook')\n",
    "matplotlib.pyplot.rcParams['figure.figsize'] = (16, 10)\n",
    "matplotlib.pyplot.rcParams['font.family'] = 'sans-serif'\n",
    "\n",
    "%matplotlib inline\n",
    "%load_ext autoreload\n",
    "%autoreload 2"
   ]
  },
  {
   "cell_type": "markdown",
   "metadata": {},
   "source": [
    "# Task1"
   ]
  },
  {
   "cell_type": "code",
   "execution_count": 2,
   "metadata": {},
   "outputs": [
    {
     "name": "stdout",
     "output_type": "stream",
     "text": [
      "CPU times: user 0 ns, sys: 0 ns, total: 0 ns\n",
      "Wall time: 2.86 µs\n",
      "No dev.out: ../exps/task1/two_headed_best/3630\n"
     ]
    },
    {
     "data": {
      "text/plain": [
       "4364"
      ]
     },
     "execution_count": 2,
     "metadata": {},
     "output_type": "execute_result"
    }
   ],
   "source": [
    "%time\n",
    "exp_dir = \"../exps/task1/two_headed_best/\"\n",
    "dev_outputs = defaultdict(list)\n",
    "\n",
    "def load_exps(exp_dir):\n",
    "    experiments = []\n",
    "    for subdir in os.scandir(exp_dir):\n",
    "        dev_fn = os.path.join(subdir.path, \"dev.out\")\n",
    "        if not os.path.exists(dev_fn):\n",
    "            print(\"No dev.out: {}\".format(subdir.path))\n",
    "            continue\n",
    "        config_fn = os.path.join(subdir.path, \"config.yaml\")\n",
    "        with open(config_fn) as f:\n",
    "            config = yaml.load(f)\n",
    "        config['config_language'] = config['language']\n",
    "        config['language'] = '-'.join(config['dev_file'].split('/')[-1].split('-')[:-1])\n",
    "        config['train_size'] = config['train_file'].split('/')[-1].split('-')[-1]\n",
    "        exp_d = config\n",
    "        dev_output = pd.read_table(dev_fn, names=[\"lemma\", \"inflected\", \"tags\"])\n",
    "        if len(dev_output['inflected']) == 0:\n",
    "            print(subdir.path)\n",
    "        \n",
    "        dev_outputs[(config['language'], config['train_size'])].append(dev_output)\n",
    "        \n",
    "        dev_acc_fn = os.path.join(subdir.path, \"dev.word_accuracy\")\n",
    "        if not os.path.exists(dev_acc_fn):\n",
    "            print(\"Dev accuracy file does not exist in dir: {}\".format(subdir.path))\n",
    "        else:\n",
    "            with open(dev_acc_fn) as f:\n",
    "                exp_d['dev_acc'] = float(f.read())\n",
    "        experiments.append(exp_d)\n",
    "    experiments = pd.DataFrame(experiments)\n",
    "    return experiments\n",
    "        \n",
    "experiments = load_exps(exp_dir)\n",
    "sum(len(v) for v in dev_outputs.values())"
   ]
  },
  {
   "cell_type": "code",
   "execution_count": 3,
   "metadata": {},
   "outputs": [],
   "source": [
    "gold = {}\n",
    "\n",
    "for fn in os.scandir(\"../data/conll2018/task1/all\"):\n",
    "    if not fn.path.endswith('-dev'):\n",
    "        continue\n",
    "    language = '-'.join(fn.name.split('-')[:-1])\n",
    "    with open(fn.path) as f:\n",
    "        inflected = [l.strip().split('\\t')[1] for l in f]\n",
    "        gold[language] = pd.Series(inflected)\n",
    "\n",
    "for fn in os.scandir(\"../data/conll2018/task1/surprise\"):\n",
    "    if not fn.path.endswith('-dev'):\n",
    "        continue\n",
    "    language = '-'.join(fn.name.split('-')[:-1])\n",
    "    with open(fn.path) as f:\n",
    "        inflected = [l.strip().split('\\t')[1] for l in f]\n",
    "        gold[language] = pd.Series(inflected)"
   ]
  },
  {
   "cell_type": "code",
   "execution_count": 4,
   "metadata": {},
   "outputs": [
    {
     "data": {
      "text/html": [
       "<div>\n",
       "<style scoped>\n",
       "    .dataframe tbody tr th:only-of-type {\n",
       "        vertical-align: middle;\n",
       "    }\n",
       "\n",
       "    .dataframe tbody tr th {\n",
       "        vertical-align: top;\n",
       "    }\n",
       "\n",
       "    .dataframe thead th {\n",
       "        text-align: right;\n",
       "    }\n",
       "</style>\n",
       "<table border=\"1\" class=\"dataframe\">\n",
       "  <thead>\n",
       "    <tr style=\"text-align: right;\">\n",
       "      <th></th>\n",
       "      <th>inflected</th>\n",
       "      <th>inflected</th>\n",
       "      <th>inflected</th>\n",
       "      <th>inflected</th>\n",
       "      <th>inflected</th>\n",
       "      <th>inflected</th>\n",
       "      <th>inflected</th>\n",
       "      <th>inflected</th>\n",
       "      <th>inflected</th>\n",
       "      <th>inflected</th>\n",
       "      <th>inflected</th>\n",
       "      <th>inflected</th>\n",
       "      <th>inflected</th>\n",
       "      <th>inflected</th>\n",
       "      <th>inflected</th>\n",
       "    </tr>\n",
       "  </thead>\n",
       "  <tbody>\n",
       "    <tr>\n",
       "      <th>0</th>\n",
       "      <td>ovillī</td>\n",
       "      <td>ovillī</td>\n",
       "      <td>ovillī</td>\n",
       "      <td>ovillī</td>\n",
       "      <td>ovillī</td>\n",
       "      <td>ovillī</td>\n",
       "      <td>ovillī</td>\n",
       "      <td>ovillī</td>\n",
       "      <td>ovillī</td>\n",
       "      <td>obellī</td>\n",
       "      <td>ovillī</td>\n",
       "      <td>ovillī</td>\n",
       "      <td>ovillī</td>\n",
       "      <td>ovillī</td>\n",
       "      <td>ovillī</td>\n",
       "    </tr>\n",
       "    <tr>\n",
       "      <th>1</th>\n",
       "      <td>trȳgōnibus</td>\n",
       "      <td>trȳgōnibus</td>\n",
       "      <td>trygōnibus</td>\n",
       "      <td>trygōnibus</td>\n",
       "      <td>trȳgōnibus</td>\n",
       "      <td>trȳgōnibus</td>\n",
       "      <td>trȳgōnibus</td>\n",
       "      <td>trȳginibus</td>\n",
       "      <td>trȳgōnibus</td>\n",
       "      <td>torgīs</td>\n",
       "      <td>trȳgōnibus</td>\n",
       "      <td>trygonibus</td>\n",
       "      <td>trȳgīs</td>\n",
       "      <td>trȳgōnibus</td>\n",
       "      <td>trygōnibus</td>\n",
       "    </tr>\n",
       "    <tr>\n",
       "      <th>2</th>\n",
       "      <td>largīvissētis</td>\n",
       "      <td>largīvissētis</td>\n",
       "      <td>largīvissētis</td>\n",
       "      <td>largīvissētis</td>\n",
       "      <td>largīvissētis</td>\n",
       "      <td>largissētis</td>\n",
       "      <td>largīvissētis</td>\n",
       "      <td>largīvissētis</td>\n",
       "      <td>largīvissētis</td>\n",
       "      <td>largīvissētis</td>\n",
       "      <td>largīvissētis</td>\n",
       "      <td>largīvissētis</td>\n",
       "      <td>largīvissētis</td>\n",
       "      <td>largīvissētis</td>\n",
       "      <td>largīvissētis</td>\n",
       "    </tr>\n",
       "    <tr>\n",
       "      <th>3</th>\n",
       "      <td>compensāverit</td>\n",
       "      <td>compensāverit</td>\n",
       "      <td>compenserit</td>\n",
       "      <td>compensāverit</td>\n",
       "      <td>compensāverit</td>\n",
       "      <td>compenserit</td>\n",
       "      <td>compenserit</td>\n",
       "      <td>compensāverit</td>\n",
       "      <td>compensāverit</td>\n",
       "      <td>compensāverit</td>\n",
       "      <td>compensāverit</td>\n",
       "      <td>compensāverit</td>\n",
       "      <td>compensāverit</td>\n",
       "      <td>compensāverit</td>\n",
       "      <td>compenserit</td>\n",
       "    </tr>\n",
       "    <tr>\n",
       "      <th>4</th>\n",
       "      <td>comperīrer</td>\n",
       "      <td>comperiārer</td>\n",
       "      <td>comperīrer</td>\n",
       "      <td>comperiārer</td>\n",
       "      <td>comperīrer</td>\n",
       "      <td>comperīrer</td>\n",
       "      <td>comperierer</td>\n",
       "      <td>comperīrer</td>\n",
       "      <td>comperiēbar</td>\n",
       "      <td>comperīrer</td>\n",
       "      <td>comperīrer</td>\n",
       "      <td>comperiārer</td>\n",
       "      <td>comperīrer</td>\n",
       "      <td>comperīrer</td>\n",
       "      <td>comperīrer</td>\n",
       "    </tr>\n",
       "  </tbody>\n",
       "</table>\n",
       "</div>"
      ],
      "text/plain": [
       "       inflected      inflected      inflected      inflected      inflected  \\\n",
       "0         ovillī         ovillī         ovillī         ovillī         ovillī   \n",
       "1     trȳgōnibus     trȳgōnibus     trygōnibus     trygōnibus     trȳgōnibus   \n",
       "2  largīvissētis  largīvissētis  largīvissētis  largīvissētis  largīvissētis   \n",
       "3  compensāverit  compensāverit    compenserit  compensāverit  compensāverit   \n",
       "4     comperīrer    comperiārer     comperīrer    comperiārer     comperīrer   \n",
       "\n",
       "     inflected      inflected      inflected      inflected      inflected  \\\n",
       "0       ovillī         ovillī         ovillī         ovillī         obellī   \n",
       "1   trȳgōnibus     trȳgōnibus     trȳginibus     trȳgōnibus         torgīs   \n",
       "2  largissētis  largīvissētis  largīvissētis  largīvissētis  largīvissētis   \n",
       "3  compenserit    compenserit  compensāverit  compensāverit  compensāverit   \n",
       "4   comperīrer    comperierer     comperīrer    comperiēbar     comperīrer   \n",
       "\n",
       "       inflected      inflected      inflected      inflected      inflected  \n",
       "0         ovillī         ovillī         ovillī         ovillī         ovillī  \n",
       "1     trȳgōnibus     trygonibus         trȳgīs     trȳgōnibus     trygōnibus  \n",
       "2  largīvissētis  largīvissētis  largīvissētis  largīvissētis  largīvissētis  \n",
       "3  compensāverit  compensāverit  compensāverit  compensāverit    compenserit  \n",
       "4     comperīrer    comperiārer     comperīrer     comperīrer     comperīrer  "
      ]
     },
     "execution_count": 4,
     "metadata": {},
     "output_type": "execute_result"
    }
   ],
   "source": [
    "merged = {}\n",
    "for (lang, size), outputs in dev_outputs.items():\n",
    "    output = pd.concat(outputs, axis=1)\n",
    "    merged[(lang, size)] = pd.concat(outputs, axis=1)['inflected']\n",
    "    \n",
    "merged[('latin', 'high')].head()"
   ]
  },
  {
   "cell_type": "code",
   "execution_count": 5,
   "metadata": {},
   "outputs": [],
   "source": [
    "results = []\n",
    "lang = 'french'\n",
    "\n",
    "for (lang, size), outputs in merged.items():\n",
    "    d = {'language': lang, 'train_size': size}\n",
    "    for i in range(outputs.shape[1]):\n",
    "        #print(lang, size, outputs.iloc[:, i].shape, gold[lang].shape)\n",
    "        acc = (outputs.iloc[:, i] == gold[lang]).mean()\n",
    "        d[i] = acc\n",
    "    d['majority'] = (outputs.mode(axis=1).iloc[:, 0] == gold[lang]).mean()\n",
    "    results.append(d)"
   ]
  },
  {
   "cell_type": "code",
   "execution_count": 6,
   "metadata": {},
   "outputs": [],
   "source": [
    "dev_results = pd.DataFrame(results)"
   ]
  },
  {
   "cell_type": "code",
   "execution_count": 7,
   "metadata": {},
   "outputs": [],
   "source": [
    "dev_results['majority_wins'] = dev_results[dev_results.columns[2:-1]].max(axis=1) < dev_results.majority"
   ]
  },
  {
   "cell_type": "code",
   "execution_count": 8,
   "metadata": {},
   "outputs": [
    {
     "data": {
      "text/plain": [
       "False    226\n",
       "True      65\n",
       "Name: majority_wins, dtype: int64"
      ]
     },
     "execution_count": 8,
     "metadata": {},
     "output_type": "execute_result"
    }
   ],
   "source": [
    "dev_results[dev_results['train_size']=='low'].majority_wins.value_counts()\n",
    "dev_results.majority_wins.value_counts()"
   ]
  },
  {
   "cell_type": "markdown",
   "metadata": {},
   "source": [
    "# Submission 1\n",
    "\n",
    "Model with the highest dev acc, no majority voting"
   ]
  },
  {
   "cell_type": "code",
   "execution_count": 9,
   "metadata": {},
   "outputs": [],
   "source": [
    "output_dir = \"../submissions/task1/01/task1\"\n",
    "for (lang, train_size), idx in experiments.groupby(['language', 'train_size']).dev_acc.idxmax().iteritems():\n",
    "    exp = experiments.loc[idx]\n",
    "    test_output = os.path.join(exp.experiment_dir, \"test.out\")\n",
    "    submission_path = os.path.join(output_dir, \"{}-{}-out\".format(lang, train_size))\n",
    "    shutil.copy2(test_output, submission_path)"
   ]
  },
  {
   "cell_type": "markdown",
   "metadata": {},
   "source": [
    "# Submission 2\n",
    "\n",
    "Simple majority vote"
   ]
  },
  {
   "cell_type": "code",
   "execution_count": 10,
   "metadata": {},
   "outputs": [],
   "source": [
    "output_dir = \"../submissions/task1/02/task1\"\n",
    "for (lang, train_size), group in experiments.groupby(['language', 'train_size']).groups.items():\n",
    "    all_outputs = None\n",
    "    for i, idx in enumerate(group):\n",
    "        exp = experiments.loc[idx]\n",
    "        test_fn = os.path.join(exp.experiment_dir, \"test.out\")\n",
    "        test_output = pd.read_table(test_fn, names=['lemma', i, 'tags'])\n",
    "        if all_outputs is None:\n",
    "            all_outputs = test_output[[i]]\n",
    "        else:\n",
    "            all_outputs = pd.concat((all_outputs, test_output[[i]]), axis=1)\n",
    "    majority = pd.concat((test_output[['lemma']], all_outputs.mode(axis=1)[0], test_output[['tags']]), axis=1)\n",
    "    output_fn = os.path.join(output_dir, \"{}-{}-out\".format(lang, train_size))\n",
    "    majority.to_csv(output_fn, index=False, header=False, sep=\"\\t\", na_rep='nan')"
   ]
  },
  {
   "cell_type": "markdown",
   "metadata": {},
   "source": [
    "# Submission 3\n",
    "\n",
    "batch size = 16"
   ]
  },
  {
   "cell_type": "code",
   "execution_count": 11,
   "metadata": {},
   "outputs": [
    {
     "name": "stdout",
     "output_type": "stream",
     "text": [
      "CPU times: user 0 ns, sys: 0 ns, total: 0 ns\n",
      "Wall time: 2.86 µs\n"
     ]
    },
    {
     "data": {
      "text/plain": [
       "4364"
      ]
     },
     "execution_count": 11,
     "metadata": {},
     "output_type": "execute_result"
    }
   ],
   "source": [
    "%time\n",
    "exp_dir = \"../exps/task1/two_headed_best/\"\n",
    "\n",
    "def load_exps(exp_dir):\n",
    "    experiments = []\n",
    "    for subdir in os.scandir(exp_dir):\n",
    "        dev_fn = os.path.join(subdir.path, \"dev.batch16.out\")\n",
    "        if not os.path.exists(dev_fn):\n",
    "            print(\"No dev.out: {}\".format(subdir.path))\n",
    "            continue\n",
    "        config_fn = os.path.join(subdir.path, \"config.yaml\")\n",
    "        with open(config_fn) as f:\n",
    "            config = yaml.load(f)\n",
    "        config['config_language'] = config['language']\n",
    "        config['language'] = '-'.join(config['dev_file'].split('/')[-1].split('-')[:-1])\n",
    "        config['train_size'] = config['train_file'].split('/')[-1].split('-')[-1]\n",
    "        exp_d = config\n",
    "        dev_acc_fn = os.path.join(subdir.path, \"dev.batch16.word_accuracy\")\n",
    "        if not os.path.exists(dev_acc_fn):\n",
    "            print(\"Dev accuracy file does not exist in dir: {}\".format(subdir.path))\n",
    "        else:\n",
    "            with open(dev_acc_fn) as f:\n",
    "                exp_d['dev_acc'] = float(f.read())\n",
    "        experiments.append(exp_d)\n",
    "    experiments = pd.DataFrame(experiments)\n",
    "    return experiments\n",
    "        \n",
    "experiments = load_exps(exp_dir)\n",
    "sum(len(v) for v in dev_outputs.values())"
   ]
  },
  {
   "cell_type": "code",
   "execution_count": 12,
   "metadata": {},
   "outputs": [],
   "source": [
    "output_dir = \"../submissions/task1/03/task1\"\n",
    "for (lang, train_size), idx in experiments.groupby(['language', 'train_size']).dev_acc.idxmax().iteritems():\n",
    "    exp = experiments.loc[idx]\n",
    "    test_output = os.path.join(exp.experiment_dir, \"test.out\")\n",
    "    submission_path = os.path.join(output_dir, \"{}-{}-out\".format(lang, train_size))\n",
    "    shutil.copy2(test_output, submission_path)"
   ]
  },
  {
   "cell_type": "code",
   "execution_count": null,
   "metadata": {},
   "outputs": [],
   "source": []
  },
  {
   "cell_type": "code",
   "execution_count": null,
   "metadata": {},
   "outputs": [],
   "source": []
  },
  {
   "cell_type": "code",
   "execution_count": null,
   "metadata": {},
   "outputs": [],
   "source": []
  },
  {
   "cell_type": "markdown",
   "metadata": {},
   "source": [
    "# Task2 - Track 1"
   ]
  },
  {
   "cell_type": "code",
   "execution_count": 13,
   "metadata": {},
   "outputs": [],
   "source": [
    "exp_dirs = [\"../exps/task2/track1/final\", \"../exps/task2/track1/default\"]\n",
    "task2_track1 = []\n",
    "\n",
    "for exp_dir in exp_dirs:\n",
    "    for subdir in os.scandir(exp_dir):\n",
    "        config_fn = os.path.join(subdir.path, \"config.yaml\")\n",
    "        with open(config_fn) as f:\n",
    "            config = yaml.load(f)\n",
    "        exp_d = config\n",
    "        exp_d['language'] = config['train_file'].split('/')[-1].split('-')[0]\n",
    "        exp_d['train_size'] = config['train_file'].split('/')[-1].split('-')[2]\n",
    "        dev_acc_fn = os.path.join(subdir.path, \"dev.word_accuracy\")\n",
    "        if not os.path.exists(dev_acc_fn):\n",
    "            print(\"Dev accuracy file does not exist in {}\".format(subdir.path))\n",
    "        else:\n",
    "            with open(dev_acc_fn) as f:\n",
    "                exp_d['dev_acc'] = float(f.read())\n",
    "        test_out_fn = os.path.join(subdir.path, \"test.out\")\n",
    "        if not os.path.exists(test_out_fn):\n",
    "            print(\"Test output file does not exist in {}\".format(subdir.path))\n",
    "        else:\n",
    "            exp_d['test_output_path'] = test_out_fn\n",
    "            \n",
    "        task2_track1.append(exp_d)\n",
    "        \n",
    "task2_track1 = pd.DataFrame(task2_track1)"
   ]
  },
  {
   "cell_type": "code",
   "execution_count": 14,
   "metadata": {},
   "outputs": [
    {
     "data": {
      "text/html": [
       "<div>\n",
       "<style scoped>\n",
       "    .dataframe tbody tr th:only-of-type {\n",
       "        vertical-align: middle;\n",
       "    }\n",
       "\n",
       "    .dataframe tbody tr th {\n",
       "        vertical-align: top;\n",
       "    }\n",
       "\n",
       "    .dataframe thead th {\n",
       "        text-align: right;\n",
       "    }\n",
       "</style>\n",
       "<table border=\"1\" class=\"dataframe\">\n",
       "  <thead>\n",
       "    <tr style=\"text-align: right;\">\n",
       "      <th></th>\n",
       "      <th></th>\n",
       "      <th>dev_acc</th>\n",
       "    </tr>\n",
       "    <tr>\n",
       "      <th>language</th>\n",
       "      <th>train_size</th>\n",
       "      <th></th>\n",
       "    </tr>\n",
       "  </thead>\n",
       "  <tbody>\n",
       "    <tr>\n",
       "      <th rowspan=\"3\" valign=\"top\">de</th>\n",
       "      <th>high</th>\n",
       "      <td>0.741742</td>\n",
       "    </tr>\n",
       "    <tr>\n",
       "      <th>low</th>\n",
       "      <td>0.270270</td>\n",
       "    </tr>\n",
       "    <tr>\n",
       "      <th>medium</th>\n",
       "      <td>0.624625</td>\n",
       "    </tr>\n",
       "    <tr>\n",
       "      <th rowspan=\"3\" valign=\"top\">en</th>\n",
       "      <th>high</th>\n",
       "      <td>0.732558</td>\n",
       "    </tr>\n",
       "    <tr>\n",
       "      <th>low</th>\n",
       "      <td>0.545309</td>\n",
       "    </tr>\n",
       "    <tr>\n",
       "      <th>medium</th>\n",
       "      <td>0.610666</td>\n",
       "    </tr>\n",
       "    <tr>\n",
       "      <th rowspan=\"3\" valign=\"top\">es</th>\n",
       "      <th>high</th>\n",
       "      <td>0.551146</td>\n",
       "    </tr>\n",
       "    <tr>\n",
       "      <th>low</th>\n",
       "      <td>0.229718</td>\n",
       "    </tr>\n",
       "    <tr>\n",
       "      <th>medium</th>\n",
       "      <td>0.394621</td>\n",
       "    </tr>\n",
       "    <tr>\n",
       "      <th rowspan=\"3\" valign=\"top\">fi</th>\n",
       "      <th>high</th>\n",
       "      <td>0.462520</td>\n",
       "    </tr>\n",
       "    <tr>\n",
       "      <th>low</th>\n",
       "      <td>0.095162</td>\n",
       "    </tr>\n",
       "    <tr>\n",
       "      <th>medium</th>\n",
       "      <td>0.210526</td>\n",
       "    </tr>\n",
       "    <tr>\n",
       "      <th rowspan=\"3\" valign=\"top\">fr</th>\n",
       "      <th>high</th>\n",
       "      <td>0.671299</td>\n",
       "    </tr>\n",
       "    <tr>\n",
       "      <th>low</th>\n",
       "      <td>0.244713</td>\n",
       "    </tr>\n",
       "    <tr>\n",
       "      <th>medium</th>\n",
       "      <td>0.464653</td>\n",
       "    </tr>\n",
       "    <tr>\n",
       "      <th rowspan=\"3\" valign=\"top\">ru</th>\n",
       "      <th>high</th>\n",
       "      <td>0.692633</td>\n",
       "    </tr>\n",
       "    <tr>\n",
       "      <th>low</th>\n",
       "      <td>0.209145</td>\n",
       "    </tr>\n",
       "    <tr>\n",
       "      <th>medium</th>\n",
       "      <td>0.403895</td>\n",
       "    </tr>\n",
       "    <tr>\n",
       "      <th rowspan=\"3\" valign=\"top\">sv</th>\n",
       "      <th>high</th>\n",
       "      <td>0.691099</td>\n",
       "    </tr>\n",
       "    <tr>\n",
       "      <th>low</th>\n",
       "      <td>0.280977</td>\n",
       "    </tr>\n",
       "    <tr>\n",
       "      <th>medium</th>\n",
       "      <td>0.390925</td>\n",
       "    </tr>\n",
       "  </tbody>\n",
       "</table>\n",
       "</div>"
      ],
      "text/plain": [
       "                      dev_acc\n",
       "language train_size          \n",
       "de       high        0.741742\n",
       "         low         0.270270\n",
       "         medium      0.624625\n",
       "en       high        0.732558\n",
       "         low         0.545309\n",
       "         medium      0.610666\n",
       "es       high        0.551146\n",
       "         low         0.229718\n",
       "         medium      0.394621\n",
       "fi       high        0.462520\n",
       "         low         0.095162\n",
       "         medium      0.210526\n",
       "fr       high        0.671299\n",
       "         low         0.244713\n",
       "         medium      0.464653\n",
       "ru       high        0.692633\n",
       "         low         0.209145\n",
       "         medium      0.403895\n",
       "sv       high        0.691099\n",
       "         low         0.280977\n",
       "         medium      0.390925"
      ]
     },
     "execution_count": 14,
     "metadata": {},
     "output_type": "execute_result"
    }
   ],
   "source": [
    "task2_track1.groupby(['language', 'train_size']).dev_acc.max().to_frame()"
   ]
  },
  {
   "cell_type": "code",
   "execution_count": 15,
   "metadata": {},
   "outputs": [],
   "source": [
    "# for row in task2_track1[task2_track1.language != 'en'].iterrows():\n",
    "#     expdir = row[1].experiment_dir\n",
    "#     os.remove(os.path.join(expdir, 'dev.word_accuracy'))\n",
    "#     os.remove(os.path.join(expdir, 'dev.out'))\n",
    "#     os.remove(os.path.join(expdir, 'test.out'))"
   ]
  },
  {
   "cell_type": "code",
   "execution_count": 16,
   "metadata": {},
   "outputs": [],
   "source": [
    "# for row in task2_track2[task2_track2.language != 'en'].iterrows():\n",
    "#     expdir = row[1].experiment_dir\n",
    "#     os.remove(os.path.join(expdir, 'dev.word_accuracy'))\n",
    "#     os.remove(os.path.join(expdir, 'dev.out'))\n",
    "#     os.remove(os.path.join(expdir, 'test.out'))"
   ]
  },
  {
   "cell_type": "code",
   "execution_count": null,
   "metadata": {},
   "outputs": [],
   "source": []
  },
  {
   "cell_type": "markdown",
   "metadata": {},
   "source": [
    "## Submission - there is only one\n",
    "\n",
    "choose the one with the highest dev acc"
   ]
  },
  {
   "cell_type": "code",
   "execution_count": 17,
   "metadata": {},
   "outputs": [],
   "source": [
    "submission_dir = \"../submissions/task2/01/task2\"\n",
    "for (language, train_size), idx in task2_track1.groupby(['language', 'train_size']).dev_acc.idxmax().iteritems():\n",
    "    experiment = task2_track1.loc[idx]\n",
    "    target_name = \"{}-1-{}-out\".format(language, train_size)\n",
    "    target_fn = os.path.join(submission_dir, target_name)\n",
    "    shutil.copy2(experiment.test_output_path, target_fn)"
   ]
  },
  {
   "cell_type": "code",
   "execution_count": null,
   "metadata": {},
   "outputs": [],
   "source": []
  },
  {
   "cell_type": "code",
   "execution_count": null,
   "metadata": {},
   "outputs": [],
   "source": []
  },
  {
   "cell_type": "code",
   "execution_count": null,
   "metadata": {},
   "outputs": [],
   "source": []
  },
  {
   "cell_type": "code",
   "execution_count": 18,
   "metadata": {},
   "outputs": [],
   "source": [
    "exp_dirs = [\"../exps/task2/track2/default/\"]\n",
    "task2_track2 = []\n",
    "\n",
    "for exp_dir in exp_dirs:\n",
    "    for subdir in os.scandir(exp_dir):\n",
    "        config_fn = os.path.join(subdir.path, \"config.yaml\")\n",
    "        with open(config_fn) as f:\n",
    "            config = yaml.load(f)\n",
    "        exp_d = config\n",
    "        exp_d['language'] = config['train_file'].split('/')[-1].split('-')[0]\n",
    "        exp_d['train_size'] = config['train_file'].split('/')[-1].split('-')[2]\n",
    "        dev_acc_fn = os.path.join(subdir.path, \"dev.word_accuracy\")\n",
    "        if not os.path.exists(dev_acc_fn):\n",
    "            print(\"Dev accuracy file does not exist in {}\".format(subdir.path))\n",
    "        else:\n",
    "            with open(dev_acc_fn) as f:\n",
    "                exp_d['dev_acc'] = float(f.read())\n",
    "        test_out_fn = os.path.join(subdir.path, \"test.out\")\n",
    "        if not os.path.exists(test_out_fn):\n",
    "            print(\"Test output file does not exist in {}\".format(subdir.path))\n",
    "        else:\n",
    "            exp_d['test_output_path'] = test_out_fn\n",
    "            \n",
    "        task2_track2.append(exp_d)\n",
    "        \n",
    "task2_track2 = pd.DataFrame(task2_track2)"
   ]
  },
  {
   "cell_type": "code",
   "execution_count": 19,
   "metadata": {},
   "outputs": [
    {
     "data": {
      "text/html": [
       "<div>\n",
       "<style scoped>\n",
       "    .dataframe tbody tr th:only-of-type {\n",
       "        vertical-align: middle;\n",
       "    }\n",
       "\n",
       "    .dataframe tbody tr th {\n",
       "        vertical-align: top;\n",
       "    }\n",
       "\n",
       "    .dataframe thead th {\n",
       "        text-align: right;\n",
       "    }\n",
       "</style>\n",
       "<table border=\"1\" class=\"dataframe\">\n",
       "  <thead>\n",
       "    <tr style=\"text-align: right;\">\n",
       "      <th></th>\n",
       "      <th></th>\n",
       "      <th>dev_acc</th>\n",
       "    </tr>\n",
       "    <tr>\n",
       "      <th>language</th>\n",
       "      <th>train_size</th>\n",
       "      <th></th>\n",
       "    </tr>\n",
       "  </thead>\n",
       "  <tbody>\n",
       "    <tr>\n",
       "      <th rowspan=\"3\" valign=\"top\">de</th>\n",
       "      <th>high</th>\n",
       "      <td>0.594595</td>\n",
       "    </tr>\n",
       "    <tr>\n",
       "      <th>low</th>\n",
       "      <td>0.264264</td>\n",
       "    </tr>\n",
       "    <tr>\n",
       "      <th>medium</th>\n",
       "      <td>0.531532</td>\n",
       "    </tr>\n",
       "    <tr>\n",
       "      <th rowspan=\"3\" valign=\"top\">en</th>\n",
       "      <th>high</th>\n",
       "      <td>0.652366</td>\n",
       "    </tr>\n",
       "    <tr>\n",
       "      <th>low</th>\n",
       "      <td>0.511628</td>\n",
       "    </tr>\n",
       "    <tr>\n",
       "      <th>medium</th>\n",
       "      <td>0.563352</td>\n",
       "    </tr>\n",
       "    <tr>\n",
       "      <th rowspan=\"3\" valign=\"top\">es</th>\n",
       "      <th>high</th>\n",
       "      <td>0.380511</td>\n",
       "    </tr>\n",
       "    <tr>\n",
       "      <th>low</th>\n",
       "      <td>0.245150</td>\n",
       "    </tr>\n",
       "    <tr>\n",
       "      <th>medium</th>\n",
       "      <td>0.284832</td>\n",
       "    </tr>\n",
       "    <tr>\n",
       "      <th rowspan=\"3\" valign=\"top\">fi</th>\n",
       "      <th>high</th>\n",
       "      <td>0.287613</td>\n",
       "    </tr>\n",
       "    <tr>\n",
       "      <th>low</th>\n",
       "      <td>0.057948</td>\n",
       "    </tr>\n",
       "    <tr>\n",
       "      <th>medium</th>\n",
       "      <td>0.152578</td>\n",
       "    </tr>\n",
       "    <tr>\n",
       "      <th rowspan=\"3\" valign=\"top\">fr</th>\n",
       "      <th>high</th>\n",
       "      <td>0.477341</td>\n",
       "    </tr>\n",
       "    <tr>\n",
       "      <th>low</th>\n",
       "      <td>0.083384</td>\n",
       "    </tr>\n",
       "    <tr>\n",
       "      <th>medium</th>\n",
       "      <td>0.235045</td>\n",
       "    </tr>\n",
       "    <tr>\n",
       "      <th rowspan=\"3\" valign=\"top\">ru</th>\n",
       "      <th>high</th>\n",
       "      <td>0.635055</td>\n",
       "    </tr>\n",
       "    <tr>\n",
       "      <th>low</th>\n",
       "      <td>0.176969</td>\n",
       "    </tr>\n",
       "    <tr>\n",
       "      <th>medium</th>\n",
       "      <td>0.358171</td>\n",
       "    </tr>\n",
       "    <tr>\n",
       "      <th rowspan=\"3\" valign=\"top\">sv</th>\n",
       "      <th>high</th>\n",
       "      <td>0.595113</td>\n",
       "    </tr>\n",
       "    <tr>\n",
       "      <th>low</th>\n",
       "      <td>0.202443</td>\n",
       "    </tr>\n",
       "    <tr>\n",
       "      <th>medium</th>\n",
       "      <td>0.375218</td>\n",
       "    </tr>\n",
       "  </tbody>\n",
       "</table>\n",
       "</div>"
      ],
      "text/plain": [
       "                      dev_acc\n",
       "language train_size          \n",
       "de       high        0.594595\n",
       "         low         0.264264\n",
       "         medium      0.531532\n",
       "en       high        0.652366\n",
       "         low         0.511628\n",
       "         medium      0.563352\n",
       "es       high        0.380511\n",
       "         low         0.245150\n",
       "         medium      0.284832\n",
       "fi       high        0.287613\n",
       "         low         0.057948\n",
       "         medium      0.152578\n",
       "fr       high        0.477341\n",
       "         low         0.083384\n",
       "         medium      0.235045\n",
       "ru       high        0.635055\n",
       "         low         0.176969\n",
       "         medium      0.358171\n",
       "sv       high        0.595113\n",
       "         low         0.202443\n",
       "         medium      0.375218"
      ]
     },
     "execution_count": 19,
     "metadata": {},
     "output_type": "execute_result"
    }
   ],
   "source": [
    "task2_track2.groupby(['language', 'train_size']).dev_acc.max().to_frame()"
   ]
  },
  {
   "cell_type": "code",
   "execution_count": 20,
   "metadata": {},
   "outputs": [],
   "source": [
    "submission_dir = \"../submissions/task2/01/task2\"\n",
    "for (language, train_size), idx in task2_track2.groupby(['language', 'train_size']).dev_acc.idxmax().iteritems():\n",
    "    experiment = task2_track2.loc[idx]\n",
    "    target_name = \"{}-2-{}-out\".format(language, train_size)\n",
    "    target_fn = os.path.join(submission_dir, target_name)\n",
    "    shutil.copy2(experiment.test_output_path, target_fn)"
   ]
  },
  {
   "cell_type": "code",
   "execution_count": null,
   "metadata": {},
   "outputs": [],
   "source": []
  },
  {
   "cell_type": "code",
   "execution_count": null,
   "metadata": {},
   "outputs": [],
   "source": []
  },
  {
   "cell_type": "markdown",
   "metadata": {},
   "source": [
    "# Sanity checks\n",
    "\n",
    "## Task1\n",
    "\n",
    "1. Is every submission file the same length as the input?\n",
    "2. Does every line have 3 fields?\n",
    "3. Do the inputs match?"
   ]
  },
  {
   "cell_type": "code",
   "execution_count": 21,
   "metadata": {},
   "outputs": [],
   "source": [
    "test_dir = \"../data/conll2018/task1/all\"\n",
    "submission_dir = \"../submissions/task1\"\n",
    "\n",
    "for submission_no in os.listdir(submission_dir):\n",
    "    for subm_file in os.scandir(os.path.join(submission_dir, submission_no, 'task1')):\n",
    "        language = '-'.join(subm_file.name.split('-')[:-2])\n",
    "        test_fn = os.path.join(test_dir, '{}-covered-test'.format(language))\n",
    "        if not os.path.exists(test_fn):\n",
    "            test_fn = os.path.join(test_dir, \"..\", \"surprise\", '{}-covered-test'.format(language))\n",
    "        with open(test_fn) as input_f, open(subm_file) as output_f:\n",
    "            for inp_line in input_f:\n",
    "                outp_line = next(output_f)\n",
    "                infd = inp_line.strip().split('\\t')\n",
    "                outfd = outp_line.strip().split('\\t')\n",
    "                try:\n",
    "                    assert len(outfd) == 3\n",
    "                    assert infd[0] == outfd[0]\n",
    "                    assert infd[-1] == outfd[-1]\n",
    "                except AssertionError:\n",
    "                    print(submission_no, subm_file.path, infd, outfd)"
   ]
  },
  {
   "cell_type": "markdown",
   "metadata": {},
   "source": [
    "## Task2"
   ]
  },
  {
   "cell_type": "code",
   "execution_count": 22,
   "metadata": {},
   "outputs": [],
   "source": [
    "test_dir = \"../data/conll2018/task2/testsets/\"\n",
    "submission_dir = \"../submissions/task2\"\n",
    "\n",
    "for submission_no in os.listdir(submission_dir):\n",
    "    for subm_file in os.scandir(os.path.join(submission_dir, submission_no, 'task2')):\n",
    "        language = subm_file.name.split('-')[0]\n",
    "        track = subm_file.name.split('-')[1]\n",
    "        test_fn = os.path.join(test_dir, '{}-track{}-covered'.format(language, track))\n",
    "        with open(test_fn) as input_f, open(subm_file) as output_f:\n",
    "            for inp_line in input_f:\n",
    "                outp_line = next(output_f)\n",
    "                if not inp_line.strip():\n",
    "                    assert not outp_line.strip()\n",
    "                    continue\n",
    "                infd = inp_line.strip().split('\\t')\n",
    "                outfd = outp_line.strip().split('\\t')\n",
    "                if track == '1':\n",
    "                    try:\n",
    "                        assert len(outfd) == 3\n",
    "                        assert infd[2] == outfd[2]\n",
    "                    except AssertionError:\n",
    "                        print(inp_line)\n",
    "                        print(outp_line)\n",
    "                        print(submission_no, subm_file.path, infd, outfd)\n",
    "                elif track == '2':\n",
    "                    pass\n",
    "                else:\n",
    "                    raise ValueError(\"unknown track: {}\".format(track))"
   ]
  },
  {
   "cell_type": "code",
   "execution_count": null,
   "metadata": {},
   "outputs": [],
   "source": []
  },
  {
   "cell_type": "code",
   "execution_count": null,
   "metadata": {},
   "outputs": [],
   "source": []
  },
  {
   "cell_type": "markdown",
   "metadata": {},
   "source": [
    "# Create submission archives\n",
    "\n",
    "## Task1"
   ]
  },
  {
   "cell_type": "code",
   "execution_count": 23,
   "metadata": {},
   "outputs": [
    {
     "name": "stdout",
     "output_type": "stream",
     "text": [
      "/mnt/permanent/home/judit/projects/sigmorphon2018/notebooks\n",
      "/mnt/permanent/home/judit/projects/sigmorphon2018/notebooks\n",
      "/mnt/permanent/home/judit/projects/sigmorphon2018/notebooks\n"
     ]
    }
   ],
   "source": [
    "%%bash\n",
    "\n",
    "for sub in $( ls ../submissions/task1); do\n",
    "    tar_name=\"BME-HAS-$sub-1.tgz\"\n",
    "    cd ../submissions/task1/$sub\n",
    "    tar czf $tar_name task1\n",
    "    mv $tar_name ../../tgz\n",
    "    cd -\n",
    "done"
   ]
  },
  {
   "cell_type": "code",
   "execution_count": 24,
   "metadata": {},
   "outputs": [
    {
     "name": "stdout",
     "output_type": "stream",
     "text": [
      "/mnt/permanent/home/judit/projects/sigmorphon2018/notebooks\n"
     ]
    }
   ],
   "source": [
    "%%bash\n",
    "\n",
    "for sub in $( ls ../submissions/task2); do\n",
    "    tar_name=\"BME-HAS-$sub-2.tgz\"\n",
    "    cd ../submissions/task2/$sub\n",
    "    tar czf $tar_name task2\n",
    "    mv $tar_name ../../tgz\n",
    "    cd -\n",
    "done"
   ]
  },
  {
   "cell_type": "code",
   "execution_count": null,
   "metadata": {},
   "outputs": [],
   "source": []
  },
  {
   "cell_type": "code",
   "execution_count": null,
   "metadata": {},
   "outputs": [],
   "source": []
  },
  {
   "cell_type": "code",
   "execution_count": null,
   "metadata": {},
   "outputs": [],
   "source": []
  },
  {
   "cell_type": "code",
   "execution_count": null,
   "metadata": {},
   "outputs": [],
   "source": []
  }
 ],
 "metadata": {
  "kernelspec": {
   "display_name": "Python 3",
   "language": "python",
   "name": "python3"
  },
  "language_info": {
   "codemirror_mode": {
    "name": "ipython",
    "version": 3
   },
   "file_extension": ".py",
   "mimetype": "text/x-python",
   "name": "python",
   "nbconvert_exporter": "python",
   "pygments_lexer": "ipython3",
   "version": "3.6.5"
  }
 },
 "nbformat": 4,
 "nbformat_minor": 2
}
