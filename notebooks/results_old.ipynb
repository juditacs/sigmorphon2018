{
 "cells": [
  {
   "cell_type": "code",
   "execution_count": 1,
   "metadata": {},
   "outputs": [],
   "source": [
    "import pandas as pd\n",
    "import os\n",
    "import yaml\n",
    "import torch\n",
    "import numpy as np\n",
    "\n",
    "%matplotlib inline\n",
    "\n",
    "import matplotlib.pyplot as plt\n",
    "import matplotlib\n",
    "plt.style.use('ggplot')\n",
    "matplotlib.pyplot.rcParams['figure.figsize'] = (15, 6)\n",
    "matplotlib.pyplot.rcParams['font.family'] = 'sans-serif'"
   ]
  },
  {
   "cell_type": "code",
   "execution_count": 6,
   "metadata": {},
   "outputs": [],
   "source": [
    "def compute_sparsity(model_fn, threshold=10e-3):\n",
    "    is_zero = 0\n",
    "    non_zero = 0\n",
    "    for name, tensor in torch.load(model_fn).items():\n",
    "        m = tensor.cpu().numpy()\n",
    "        close = len(np.where(np.abs(m) <= threshold)[0])\n",
    "        is_zero += close\n",
    "        non_zero += (m.size - close)\n",
    "    return is_zero, non_zero, is_zero / (is_zero + non_zero)\n",
    "    \n",
    "    \n",
    "def get_min_loss(row):\n",
    "    min_idx, min_dev_loss = min(enumerate(row['dev_loss']), key=lambda x: x[1])\n",
    "    min_train_loss = row['train_loss'][min_idx]\n",
    "    row['min_dev_loss'] = min_dev_loss\n",
    "    row['min_train_loss'] = min_train_loss\n",
    "    return row\n",
    "    \n",
    "    \n",
    "def extract_language_name(field):\n",
    "    fn = field.split('/')[-1]\n",
    "    if 'dev' in fn:\n",
    "        return '-'.join(fn.split('-')[:-1])\n",
    "    return '-'.join(fn.split('-')[:-2])\n",
    "    \n",
    "\n",
    "def load_res_dir(basedir, include_sparsity=False):\n",
    "    experiments = []\n",
    "    for subdir in os.scandir(basedir):\n",
    "        exp_d = {}\n",
    "        with open(os.path.join(subdir.path, \"config.yaml\")) as f:\n",
    "            exp_d.update(yaml.load(f))\n",
    "        res_fn = os.path.join(subdir.path, \"result.yaml\")\n",
    "        if os.path.exists(res_fn):\n",
    "            with open(os.path.join(subdir.path, \"result.yaml\")) as f:\n",
    "                exp_d.update(yaml.load(f))\n",
    "        else:\n",
    "            continue\n",
    "        dev_acc_path = os.path.join(subdir.path, \"dev.word_accuracy\")\n",
    "        if os.path.exists(dev_acc_path):\n",
    "            with open(dev_acc_path) as f:\n",
    "                exp_d['dev_acc'] = float(f.read())\n",
    "        else:\n",
    "            print(\"Dev accuracy file does not exist in dir: {}\".format(subdir.path))\n",
    "        if include_sparsity:\n",
    "            exp_d['sparsity'] = compute_sparsity(os.path.join(subdir.path, \"model\"), 10e-4)\n",
    "        experiments.append(exp_d)\n",
    "    experiments = pd.DataFrame(experiments)\n",
    "    if include_sparsity:\n",
    "        experiments['sparsity_ratio'] = experiments['sparsity'].apply(lambda x: x[2])\n",
    "    experiments['language'] = experiments.dev_file.apply(extract_language_name)\n",
    "    experiments = experiments.apply(get_min_loss, axis=1)\n",
    "    experiments = experiments[experiments['dev_acc'].notnull()]\n",
    "    experiments = experiments[experiments['dev_loss'].notnull()]\n",
    "    experiments['train_size'] = experiments['train_file'].apply(lambda fn: fn.split('-')[-1])\n",
    "    return experiments"
   ]
  },
  {
   "cell_type": "markdown",
   "metadata": {},
   "source": [
    "# Luong attention seq2seq"
   ]
  },
  {
   "cell_type": "code",
   "execution_count": 7,
   "metadata": {},
   "outputs": [
    {
     "data": {
      "text/html": [
       "<div>\n",
       "<style scoped>\n",
       "    .dataframe tbody tr th:only-of-type {\n",
       "        vertical-align: middle;\n",
       "    }\n",
       "\n",
       "    .dataframe tbody tr th {\n",
       "        vertical-align: top;\n",
       "    }\n",
       "\n",
       "    .dataframe thead th {\n",
       "        text-align: right;\n",
       "    }\n",
       "</style>\n",
       "<table border=\"1\" class=\"dataframe\">\n",
       "  <thead>\n",
       "    <tr style=\"text-align: right;\">\n",
       "      <th></th>\n",
       "      <th>batch_size</th>\n",
       "      <th>cell_type</th>\n",
       "      <th>dataset_class</th>\n",
       "      <th>defaults</th>\n",
       "      <th>dev_acc</th>\n",
       "      <th>dev_file</th>\n",
       "      <th>dev_loss</th>\n",
       "      <th>dropout</th>\n",
       "      <th>early_stopping_ratio</th>\n",
       "      <th>embedding_size_src</th>\n",
       "      <th>...</th>\n",
       "      <th>train_file</th>\n",
       "      <th>train_loss</th>\n",
       "      <th>use_eos</th>\n",
       "      <th>use_step</th>\n",
       "      <th>vocab_path_src</th>\n",
       "      <th>vocab_path_tgt</th>\n",
       "      <th>language</th>\n",
       "      <th>min_dev_loss</th>\n",
       "      <th>min_train_loss</th>\n",
       "      <th>train_size</th>\n",
       "    </tr>\n",
       "  </thead>\n",
       "  <tbody>\n",
       "    <tr>\n",
       "      <th>0</th>\n",
       "      <td>128</td>\n",
       "      <td>LSTM</td>\n",
       "      <td>SIGMORPOHTask1Dataset</td>\n",
       "      <td>{'cell_type': 'LSTM', 'dataset_class': 'Labele...</td>\n",
       "      <td>0.817</td>\n",
       "      <td>/mnt/permanent/home/judit/projects/deep-morpho...</td>\n",
       "      <td>[0.023873119592666626, 0.020675533771514893, 0...</td>\n",
       "      <td>0.2</td>\n",
       "      <td>1.5</td>\n",
       "      <td>10</td>\n",
       "      <td>...</td>\n",
       "      <td>/mnt/permanent/home/judit/projects/deep-morpho...</td>\n",
       "      <td>[0.02462552695274353, 0.022512354850769044, 0....</td>\n",
       "      <td>True</td>\n",
       "      <td>False</td>\n",
       "      <td>/mnt/permanent/home/judit/projects/deep-morpho...</td>\n",
       "      <td>/mnt/permanent/home/judit/projects/deep-morpho...</td>\n",
       "      <td>hungarian</td>\n",
       "      <td>0.000538</td>\n",
       "      <td>0.000413</td>\n",
       "      <td>high</td>\n",
       "    </tr>\n",
       "    <tr>\n",
       "      <th>1</th>\n",
       "      <td>128</td>\n",
       "      <td>LSTM</td>\n",
       "      <td>SIGMORPOHTask1Dataset</td>\n",
       "      <td>{'cell_type': 'LSTM', 'dataset_class': 'Labele...</td>\n",
       "      <td>0.821</td>\n",
       "      <td>/mnt/permanent/home/judit/projects/deep-morpho...</td>\n",
       "      <td>[0.023945430755615234, 0.021567680835723878, 0...</td>\n",
       "      <td>0.2</td>\n",
       "      <td>1.5</td>\n",
       "      <td>10</td>\n",
       "      <td>...</td>\n",
       "      <td>/mnt/permanent/home/judit/projects/deep-morpho...</td>\n",
       "      <td>[0.024921917390823365, 0.02244206266403198, 0....</td>\n",
       "      <td>True</td>\n",
       "      <td>False</td>\n",
       "      <td>/mnt/permanent/home/judit/projects/deep-morpho...</td>\n",
       "      <td>/mnt/permanent/home/judit/projects/deep-morpho...</td>\n",
       "      <td>hungarian</td>\n",
       "      <td>0.000497</td>\n",
       "      <td>0.000361</td>\n",
       "      <td>high</td>\n",
       "    </tr>\n",
       "    <tr>\n",
       "      <th>2</th>\n",
       "      <td>128</td>\n",
       "      <td>LSTM</td>\n",
       "      <td>SIGMORPOHTask1Dataset</td>\n",
       "      <td>{'cell_type': 'LSTM', 'dataset_class': 'Labele...</td>\n",
       "      <td>0.191</td>\n",
       "      <td>/mnt/permanent/home/judit/projects/deep-morpho...</td>\n",
       "      <td>[0.023964147329330443, 0.023558178424835204, 0...</td>\n",
       "      <td>0.4</td>\n",
       "      <td>1.5</td>\n",
       "      <td>10</td>\n",
       "      <td>...</td>\n",
       "      <td>/mnt/permanent/home/judit/projects/deep-morpho...</td>\n",
       "      <td>[0.02505976309776306, 0.02335397810935974, 0.0...</td>\n",
       "      <td>True</td>\n",
       "      <td>False</td>\n",
       "      <td>/mnt/permanent/home/judit/projects/deep-morpho...</td>\n",
       "      <td>/mnt/permanent/home/judit/projects/deep-morpho...</td>\n",
       "      <td>hungarian</td>\n",
       "      <td>0.003113</td>\n",
       "      <td>0.004525</td>\n",
       "      <td>high</td>\n",
       "    </tr>\n",
       "    <tr>\n",
       "      <th>3</th>\n",
       "      <td>128</td>\n",
       "      <td>LSTM</td>\n",
       "      <td>SIGMORPOHTask1Dataset</td>\n",
       "      <td>{'cell_type': 'LSTM', 'dataset_class': 'Labele...</td>\n",
       "      <td>0.834</td>\n",
       "      <td>/mnt/permanent/home/judit/projects/deep-morpho...</td>\n",
       "      <td>[0.02451201057434082, 0.023875764608383178, 0....</td>\n",
       "      <td>0.2</td>\n",
       "      <td>1.5</td>\n",
       "      <td>20</td>\n",
       "      <td>...</td>\n",
       "      <td>/mnt/permanent/home/judit/projects/deep-morpho...</td>\n",
       "      <td>[0.02666620283126831, 0.023718895411491393, 0....</td>\n",
       "      <td>True</td>\n",
       "      <td>False</td>\n",
       "      <td>/mnt/permanent/home/judit/projects/deep-morpho...</td>\n",
       "      <td>/mnt/permanent/home/judit/projects/deep-morpho...</td>\n",
       "      <td>hungarian</td>\n",
       "      <td>0.000497</td>\n",
       "      <td>0.000362</td>\n",
       "      <td>high</td>\n",
       "    </tr>\n",
       "    <tr>\n",
       "      <th>4</th>\n",
       "      <td>128</td>\n",
       "      <td>LSTM</td>\n",
       "      <td>SIGMORPOHTask1Dataset</td>\n",
       "      <td>{'cell_type': 'LSTM', 'dataset_class': 'Labele...</td>\n",
       "      <td>0.510</td>\n",
       "      <td>/mnt/permanent/home/judit/projects/deep-morpho...</td>\n",
       "      <td>[0.024245388746261597, 0.023477741956710815, 0...</td>\n",
       "      <td>0.5</td>\n",
       "      <td>1.5</td>\n",
       "      <td>30</td>\n",
       "      <td>...</td>\n",
       "      <td>/mnt/permanent/home/judit/projects/deep-morpho...</td>\n",
       "      <td>[0.02538008646965027, 0.02345137984752655, 0.0...</td>\n",
       "      <td>True</td>\n",
       "      <td>False</td>\n",
       "      <td>/mnt/permanent/home/judit/projects/deep-morpho...</td>\n",
       "      <td>/mnt/permanent/home/judit/projects/deep-morpho...</td>\n",
       "      <td>hungarian</td>\n",
       "      <td>0.001829</td>\n",
       "      <td>0.001454</td>\n",
       "      <td>high</td>\n",
       "    </tr>\n",
       "  </tbody>\n",
       "</table>\n",
       "<p>5 rows × 38 columns</p>\n",
       "</div>"
      ],
      "text/plain": [
       "   batch_size cell_type          dataset_class  \\\n",
       "0         128      LSTM  SIGMORPOHTask1Dataset   \n",
       "1         128      LSTM  SIGMORPOHTask1Dataset   \n",
       "2         128      LSTM  SIGMORPOHTask1Dataset   \n",
       "3         128      LSTM  SIGMORPOHTask1Dataset   \n",
       "4         128      LSTM  SIGMORPOHTask1Dataset   \n",
       "\n",
       "                                            defaults  dev_acc  \\\n",
       "0  {'cell_type': 'LSTM', 'dataset_class': 'Labele...    0.817   \n",
       "1  {'cell_type': 'LSTM', 'dataset_class': 'Labele...    0.821   \n",
       "2  {'cell_type': 'LSTM', 'dataset_class': 'Labele...    0.191   \n",
       "3  {'cell_type': 'LSTM', 'dataset_class': 'Labele...    0.834   \n",
       "4  {'cell_type': 'LSTM', 'dataset_class': 'Labele...    0.510   \n",
       "\n",
       "                                            dev_file  \\\n",
       "0  /mnt/permanent/home/judit/projects/deep-morpho...   \n",
       "1  /mnt/permanent/home/judit/projects/deep-morpho...   \n",
       "2  /mnt/permanent/home/judit/projects/deep-morpho...   \n",
       "3  /mnt/permanent/home/judit/projects/deep-morpho...   \n",
       "4  /mnt/permanent/home/judit/projects/deep-morpho...   \n",
       "\n",
       "                                            dev_loss  dropout  \\\n",
       "0  [0.023873119592666626, 0.020675533771514893, 0...      0.2   \n",
       "1  [0.023945430755615234, 0.021567680835723878, 0...      0.2   \n",
       "2  [0.023964147329330443, 0.023558178424835204, 0...      0.4   \n",
       "3  [0.02451201057434082, 0.023875764608383178, 0....      0.2   \n",
       "4  [0.024245388746261597, 0.023477741956710815, 0...      0.5   \n",
       "\n",
       "   early_stopping_ratio  embedding_size_src    ...      \\\n",
       "0                   1.5                  10    ...       \n",
       "1                   1.5                  10    ...       \n",
       "2                   1.5                  10    ...       \n",
       "3                   1.5                  20    ...       \n",
       "4                   1.5                  30    ...       \n",
       "\n",
       "                                          train_file  \\\n",
       "0  /mnt/permanent/home/judit/projects/deep-morpho...   \n",
       "1  /mnt/permanent/home/judit/projects/deep-morpho...   \n",
       "2  /mnt/permanent/home/judit/projects/deep-morpho...   \n",
       "3  /mnt/permanent/home/judit/projects/deep-morpho...   \n",
       "4  /mnt/permanent/home/judit/projects/deep-morpho...   \n",
       "\n",
       "                                          train_loss use_eos  use_step  \\\n",
       "0  [0.02462552695274353, 0.022512354850769044, 0....    True     False   \n",
       "1  [0.024921917390823365, 0.02244206266403198, 0....    True     False   \n",
       "2  [0.02505976309776306, 0.02335397810935974, 0.0...    True     False   \n",
       "3  [0.02666620283126831, 0.023718895411491393, 0....    True     False   \n",
       "4  [0.02538008646965027, 0.02345137984752655, 0.0...    True     False   \n",
       "\n",
       "                                      vocab_path_src  \\\n",
       "0  /mnt/permanent/home/judit/projects/deep-morpho...   \n",
       "1  /mnt/permanent/home/judit/projects/deep-morpho...   \n",
       "2  /mnt/permanent/home/judit/projects/deep-morpho...   \n",
       "3  /mnt/permanent/home/judit/projects/deep-morpho...   \n",
       "4  /mnt/permanent/home/judit/projects/deep-morpho...   \n",
       "\n",
       "                                      vocab_path_tgt   language  min_dev_loss  \\\n",
       "0  /mnt/permanent/home/judit/projects/deep-morpho...  hungarian      0.000538   \n",
       "1  /mnt/permanent/home/judit/projects/deep-morpho...  hungarian      0.000497   \n",
       "2  /mnt/permanent/home/judit/projects/deep-morpho...  hungarian      0.003113   \n",
       "3  /mnt/permanent/home/judit/projects/deep-morpho...  hungarian      0.000497   \n",
       "4  /mnt/permanent/home/judit/projects/deep-morpho...  hungarian      0.001829   \n",
       "\n",
       "   min_train_loss train_size  \n",
       "0        0.000413       high  \n",
       "1        0.000361       high  \n",
       "2        0.004525       high  \n",
       "3        0.000362       high  \n",
       "4        0.001454       high  \n",
       "\n",
       "[5 rows x 38 columns]"
      ]
     },
     "execution_count": 7,
     "metadata": {},
     "output_type": "execute_result"
    }
   ],
   "source": [
    "luong = load_res_dir(\"../exps/sigmorphon_2018/luong_hyperparam_search/\")\n",
    "luong.head()"
   ]
  },
  {
   "cell_type": "code",
   "execution_count": 8,
   "metadata": {},
   "outputs": [],
   "source": [
    "params = ['embedding_size_src', 'embedding_size_tgt', 'hidden_size', 'dropout', 'num_layers_src', 'num_layers_tgt']"
   ]
  },
  {
   "cell_type": "code",
   "execution_count": 11,
   "metadata": {},
   "outputs": [
    {
     "data": {
      "text/plain": [
       "<matplotlib.axes._subplots.AxesSubplot at 0x7f3eae498f28>"
      ]
     },
     "execution_count": 11,
     "metadata": {},
     "output_type": "execute_result"
    },
    {
     "data": {
      "image/png": "[encoded data removed]",
      "text/plain": [
       "<Figure size 432x288 with 1 Axes>"
      ]
     },
     "metadata": {},
     "output_type": "display_data"
    }
   ],
   "source": [
    "luong['sum_neurons'] = (luong['num_layers_src'] + luong['num_layers_tgt']) * luong['hidden_size']\n",
    "luong[luong.language=='hungarian'].plot(kind='scatter', x='sum_neurons', y='dev_acc')"
   ]
  },
  {
   "cell_type": "code",
   "execution_count": 16,
   "metadata": {},
   "outputs": [
    {
     "data": {
      "text/html": [
       "<div>\n",
       "<style scoped>\n",
       "    .dataframe tbody tr th:only-of-type {\n",
       "        vertical-align: middle;\n",
       "    }\n",
       "\n",
       "    .dataframe tbody tr th {\n",
       "        vertical-align: top;\n",
       "    }\n",
       "\n",
       "    .dataframe thead th {\n",
       "        text-align: right;\n",
       "    }\n",
       "</style>\n",
       "<table border=\"1\" class=\"dataframe\">\n",
       "  <thead>\n",
       "    <tr style=\"text-align: right;\">\n",
       "      <th></th>\n",
       "      <th>dev_acc</th>\n",
       "      <th>embedding_size_src</th>\n",
       "      <th>embedding_size_tgt</th>\n",
       "      <th>hidden_size</th>\n",
       "      <th>dropout</th>\n",
       "      <th>num_layers_src</th>\n",
       "      <th>num_layers_tgt</th>\n",
       "    </tr>\n",
       "  </thead>\n",
       "  <tbody>\n",
       "    <tr>\n",
       "      <th>174</th>\n",
       "      <td>0.856</td>\n",
       "      <td>30</td>\n",
       "      <td>30</td>\n",
       "      <td>64</td>\n",
       "      <td>0.4</td>\n",
       "      <td>1</td>\n",
       "      <td>1</td>\n",
       "    </tr>\n",
       "    <tr>\n",
       "      <th>107</th>\n",
       "      <td>0.854</td>\n",
       "      <td>30</td>\n",
       "      <td>20</td>\n",
       "      <td>64</td>\n",
       "      <td>0.3</td>\n",
       "      <td>2</td>\n",
       "      <td>1</td>\n",
       "    </tr>\n",
       "    <tr>\n",
       "      <th>191</th>\n",
       "      <td>0.852</td>\n",
       "      <td>30</td>\n",
       "      <td>30</td>\n",
       "      <td>128</td>\n",
       "      <td>0.5</td>\n",
       "      <td>2</td>\n",
       "      <td>1</td>\n",
       "    </tr>\n",
       "    <tr>\n",
       "      <th>241</th>\n",
       "      <td>0.852</td>\n",
       "      <td>20</td>\n",
       "      <td>30</td>\n",
       "      <td>128</td>\n",
       "      <td>0.2</td>\n",
       "      <td>1</td>\n",
       "      <td>1</td>\n",
       "    </tr>\n",
       "    <tr>\n",
       "      <th>85</th>\n",
       "      <td>0.851</td>\n",
       "      <td>30</td>\n",
       "      <td>20</td>\n",
       "      <td>128</td>\n",
       "      <td>0.5</td>\n",
       "      <td>3</td>\n",
       "      <td>1</td>\n",
       "    </tr>\n",
       "    <tr>\n",
       "      <th>325</th>\n",
       "      <td>0.851</td>\n",
       "      <td>50</td>\n",
       "      <td>50</td>\n",
       "      <td>64</td>\n",
       "      <td>0.3</td>\n",
       "      <td>2</td>\n",
       "      <td>1</td>\n",
       "    </tr>\n",
       "    <tr>\n",
       "      <th>276</th>\n",
       "      <td>0.849</td>\n",
       "      <td>50</td>\n",
       "      <td>50</td>\n",
       "      <td>32</td>\n",
       "      <td>0.3</td>\n",
       "      <td>4</td>\n",
       "      <td>1</td>\n",
       "    </tr>\n",
       "    <tr>\n",
       "      <th>122</th>\n",
       "      <td>0.849</td>\n",
       "      <td>30</td>\n",
       "      <td>20</td>\n",
       "      <td>64</td>\n",
       "      <td>0.3</td>\n",
       "      <td>2</td>\n",
       "      <td>1</td>\n",
       "    </tr>\n",
       "    <tr>\n",
       "      <th>87</th>\n",
       "      <td>0.849</td>\n",
       "      <td>30</td>\n",
       "      <td>30</td>\n",
       "      <td>256</td>\n",
       "      <td>0.4</td>\n",
       "      <td>1</td>\n",
       "      <td>1</td>\n",
       "    </tr>\n",
       "    <tr>\n",
       "      <th>199</th>\n",
       "      <td>0.849</td>\n",
       "      <td>10</td>\n",
       "      <td>10</td>\n",
       "      <td>128</td>\n",
       "      <td>0.4</td>\n",
       "      <td>2</td>\n",
       "      <td>1</td>\n",
       "    </tr>\n",
       "  </tbody>\n",
       "</table>\n",
       "</div>"
      ],
      "text/plain": [
       "     dev_acc  embedding_size_src  embedding_size_tgt  hidden_size  dropout  \\\n",
       "174    0.856                  30                  30           64      0.4   \n",
       "107    0.854                  30                  20           64      0.3   \n",
       "191    0.852                  30                  30          128      0.5   \n",
       "241    0.852                  20                  30          128      0.2   \n",
       "85     0.851                  30                  20          128      0.5   \n",
       "325    0.851                  50                  50           64      0.3   \n",
       "276    0.849                  50                  50           32      0.3   \n",
       "122    0.849                  30                  20           64      0.3   \n",
       "87     0.849                  30                  30          256      0.4   \n",
       "199    0.849                  10                  10          128      0.4   \n",
       "\n",
       "     num_layers_src  num_layers_tgt  \n",
       "174               1               1  \n",
       "107               2               1  \n",
       "191               2               1  \n",
       "241               1               1  \n",
       "85                3               1  \n",
       "325               2               1  \n",
       "276               4               1  \n",
       "122               2               1  \n",
       "87                1               1  \n",
       "199               2               1  "
      ]
     },
     "execution_count": 16,
     "metadata": {},
     "output_type": "execute_result"
    }
   ],
   "source": [
    "hun = luong[luong.language=='hungarian']\n",
    "best_n = hun['dev_acc'].sort_values(ascending=False)[:10]\n",
    "hun.loc[best_n.index][['dev_acc'] + params]"
   ]
  },
  {
   "cell_type": "code",
   "execution_count": 12,
   "metadata": {},
   "outputs": [
    {
     "data": {
      "text/plain": [
       "<matplotlib.axes._subplots.AxesSubplot at 0x7f3100e19e80>"
      ]
     },
     "execution_count": 12,
     "metadata": {},
     "output_type": "execute_result"
    },
    {
     "data": {
      "image/png": "[encoded data removed]",
      "text/plain": [
       "<Figure size 432x288 with 1 Axes>"
      ]
     },
     "metadata": {},
     "output_type": "display_data"
    }
   ],
   "source": [
    "luong.plot(kind='scatter', x='dropout', y='dev_acc')"
   ]
  },
  {
   "cell_type": "code",
   "execution_count": 27,
   "metadata": {},
   "outputs": [
    {
     "data": {
      "text/html": [
       "<div>\n",
       "<style scoped>\n",
       "    .dataframe tbody tr th:only-of-type {\n",
       "        vertical-align: middle;\n",
       "    }\n",
       "\n",
       "    .dataframe tbody tr th {\n",
       "        vertical-align: top;\n",
       "    }\n",
       "\n",
       "    .dataframe thead th {\n",
       "        text-align: right;\n",
       "    }\n",
       "</style>\n",
       "<table border=\"1\" class=\"dataframe\">\n",
       "  <thead>\n",
       "    <tr style=\"text-align: right;\">\n",
       "      <th></th>\n",
       "      <th>dev_acc</th>\n",
       "      <th>embedding_size_src</th>\n",
       "      <th>embedding_size_tgt</th>\n",
       "      <th>hidden_size</th>\n",
       "      <th>dropout</th>\n",
       "      <th>num_layers_src</th>\n",
       "      <th>num_layers_tgt</th>\n",
       "    </tr>\n",
       "  </thead>\n",
       "  <tbody>\n",
       "    <tr>\n",
       "      <th>174</th>\n",
       "      <td>0.856</td>\n",
       "      <td>30</td>\n",
       "      <td>30</td>\n",
       "      <td>64</td>\n",
       "      <td>0.4</td>\n",
       "      <td>1</td>\n",
       "      <td>1</td>\n",
       "    </tr>\n",
       "    <tr>\n",
       "      <th>107</th>\n",
       "      <td>0.854</td>\n",
       "      <td>30</td>\n",
       "      <td>20</td>\n",
       "      <td>64</td>\n",
       "      <td>0.3</td>\n",
       "      <td>2</td>\n",
       "      <td>1</td>\n",
       "    </tr>\n",
       "    <tr>\n",
       "      <th>241</th>\n",
       "      <td>0.852</td>\n",
       "      <td>20</td>\n",
       "      <td>30</td>\n",
       "      <td>128</td>\n",
       "      <td>0.2</td>\n",
       "      <td>1</td>\n",
       "      <td>1</td>\n",
       "    </tr>\n",
       "    <tr>\n",
       "      <th>191</th>\n",
       "      <td>0.852</td>\n",
       "      <td>30</td>\n",
       "      <td>30</td>\n",
       "      <td>128</td>\n",
       "      <td>0.5</td>\n",
       "      <td>2</td>\n",
       "      <td>1</td>\n",
       "    </tr>\n",
       "    <tr>\n",
       "      <th>85</th>\n",
       "      <td>0.851</td>\n",
       "      <td>30</td>\n",
       "      <td>20</td>\n",
       "      <td>128</td>\n",
       "      <td>0.5</td>\n",
       "      <td>3</td>\n",
       "      <td>1</td>\n",
       "    </tr>\n",
       "    <tr>\n",
       "      <th>122</th>\n",
       "      <td>0.849</td>\n",
       "      <td>30</td>\n",
       "      <td>20</td>\n",
       "      <td>64</td>\n",
       "      <td>0.3</td>\n",
       "      <td>2</td>\n",
       "      <td>1</td>\n",
       "    </tr>\n",
       "    <tr>\n",
       "      <th>199</th>\n",
       "      <td>0.849</td>\n",
       "      <td>10</td>\n",
       "      <td>10</td>\n",
       "      <td>128</td>\n",
       "      <td>0.4</td>\n",
       "      <td>2</td>\n",
       "      <td>1</td>\n",
       "    </tr>\n",
       "    <tr>\n",
       "      <th>87</th>\n",
       "      <td>0.849</td>\n",
       "      <td>30</td>\n",
       "      <td>30</td>\n",
       "      <td>256</td>\n",
       "      <td>0.4</td>\n",
       "      <td>1</td>\n",
       "      <td>1</td>\n",
       "    </tr>\n",
       "    <tr>\n",
       "      <th>72</th>\n",
       "      <td>0.849</td>\n",
       "      <td>20</td>\n",
       "      <td>10</td>\n",
       "      <td>64</td>\n",
       "      <td>0.2</td>\n",
       "      <td>2</td>\n",
       "      <td>1</td>\n",
       "    </tr>\n",
       "    <tr>\n",
       "      <th>200</th>\n",
       "      <td>0.848</td>\n",
       "      <td>30</td>\n",
       "      <td>30</td>\n",
       "      <td>64</td>\n",
       "      <td>0.2</td>\n",
       "      <td>2</td>\n",
       "      <td>1</td>\n",
       "    </tr>\n",
       "  </tbody>\n",
       "</table>\n",
       "</div>"
      ],
      "text/plain": [
       "     dev_acc  embedding_size_src  embedding_size_tgt  hidden_size  dropout  \\\n",
       "174    0.856                  30                  30           64      0.4   \n",
       "107    0.854                  30                  20           64      0.3   \n",
       "241    0.852                  20                  30          128      0.2   \n",
       "191    0.852                  30                  30          128      0.5   \n",
       "85     0.851                  30                  20          128      0.5   \n",
       "122    0.849                  30                  20           64      0.3   \n",
       "199    0.849                  10                  10          128      0.4   \n",
       "87     0.849                  30                  30          256      0.4   \n",
       "72     0.849                  20                  10           64      0.2   \n",
       "200    0.848                  30                  30           64      0.2   \n",
       "\n",
       "     num_layers_src  num_layers_tgt  \n",
       "174               1               1  \n",
       "107               2               1  \n",
       "241               1               1  \n",
       "191               2               1  \n",
       "85                3               1  \n",
       "122               2               1  \n",
       "199               2               1  \n",
       "87                1               1  \n",
       "72                2               1  \n",
       "200               2               1  "
      ]
     },
     "execution_count": 27,
     "metadata": {},
     "output_type": "execute_result"
    }
   ],
   "source": [
    "best_n = luong['dev_acc'].sort_values(ascending=False)[:10]\n",
    "luong.loc[best_n.index][['dev_acc'] + params]"
   ]
  },
  {
   "cell_type": "code",
   "execution_count": 14,
   "metadata": {},
   "outputs": [
    {
     "data": {
      "text/plain": [
       "embedding_size_src     30\n",
       "embedding_size_tgt     30\n",
       "hidden_size            64\n",
       "dropout               0.4\n",
       "num_layers_src          1\n",
       "num_layers_tgt          1\n",
       "Name: 174, dtype: object"
      ]
     },
     "execution_count": 14,
     "metadata": {},
     "output_type": "execute_result"
    }
   ],
   "source": [
    "luong.loc[luong.dev_acc.idxmax()][params]"
   ]
  },
  {
   "cell_type": "code",
   "execution_count": 94,
   "metadata": {},
   "outputs": [
    {
     "name": "stdout",
     "output_type": "stream",
     "text": [
      "CPU times: user 21.5 s, sys: 152 ms, total: 21.7 s\n",
      "Wall time: 25.5 s\n"
     ]
    }
   ],
   "source": [
    "%%time\n",
    "experiments = load_res_dir(\"../exps/reinflection_ron\")\n",
    "exps2 = load_res_dir(\"../exps/reinflection\")\n",
    "\n",
    "experiments = pd.concat([experiments, exps2], axis=0)"
   ]
  },
  {
   "cell_type": "markdown",
   "metadata": {},
   "source": [
    "# Language distribution"
   ]
  },
  {
   "cell_type": "code",
   "execution_count": 95,
   "metadata": {},
   "outputs": [
    {
     "data": {
      "text/plain": [
       "hungarian             417\n",
       "finnish                15\n",
       "basque                 13\n",
       "welsh                   9\n",
       "faroese                 7\n",
       "middle-high-german      6\n",
       "sanskrit                5\n",
       "friulian                5\n",
       "livonian                5\n",
       "maltese                 5\n",
       "kabardian               5\n",
       "spanish                 5\n",
       "hebrew                  5\n",
       "azeri                   5\n",
       "sorani                  5\n",
       "romanian                5\n",
       "neapolitan              5\n",
       "quechua                 5\n",
       "norwegian-bokmaal       5\n",
       "pashto                  5\n",
       "adyghe                  5\n",
       "navajo                  5\n",
       "irish                   5\n",
       "lower-sorbian           5\n",
       "latvian                 5\n",
       "kurmanji                5\n",
       "old-saxon               5\n",
       "hindi                   5\n",
       "georgian                5\n",
       "khaling                 5\n",
       "                     ... \n",
       "votic                   4\n",
       "west-frisian            4\n",
       "uzbek                   4\n",
       "tatar                   4\n",
       "yiddish                 4\n",
       "czech                   2\n",
       "kazakh                  2\n",
       "greenlandic             2\n",
       "bengali                 2\n",
       "tibetan                 2\n",
       "norman                  2\n",
       "crimean-tatar           2\n",
       "bulgarian               2\n",
       "mapudungun              2\n",
       "kashubian               2\n",
       "murrinhpatha            2\n",
       "ingrian                 2\n",
       "scottish-gaelic         2\n",
       "estonian                2\n",
       "bashkir                 2\n",
       "breton                  2\n",
       "catalan                 2\n",
       "danish                  2\n",
       "khakas                  2\n",
       "karelian                2\n",
       "old-irish               2\n",
       "turkmen                 2\n",
       "classical-syriac        2\n",
       "belarusian              2\n",
       "telugu                  1\n",
       "Name: language, Length: 92, dtype: int64"
      ]
     },
     "execution_count": 95,
     "metadata": {},
     "output_type": "execute_result"
    }
   ],
   "source": [
    "experiments.language.value_counts()"
   ]
  },
  {
   "cell_type": "code",
   "execution_count": 97,
   "metadata": {},
   "outputs": [
    {
     "data": {
      "text/plain": [
       "high                641\n",
       "low                  83\n",
       "medium               82\n",
       "/proc/self/fd/11      5\n",
       "Name: train_size, dtype: int64"
      ]
     },
     "execution_count": 97,
     "metadata": {},
     "output_type": "execute_result"
    }
   ],
   "source": [
    "experiments['train_size'].value_counts()"
   ]
  },
  {
   "cell_type": "markdown",
   "metadata": {},
   "source": [
    "# Variation by experiment"
   ]
  },
  {
   "cell_type": "code",
   "execution_count": 98,
   "metadata": {},
   "outputs": [
    {
     "data": {
      "text/html": [
       "<div>\n",
       "<style scoped>\n",
       "    .dataframe tbody tr th:only-of-type {\n",
       "        vertical-align: middle;\n",
       "    }\n",
       "\n",
       "    .dataframe tbody tr th {\n",
       "        vertical-align: top;\n",
       "    }\n",
       "\n",
       "    .dataframe thead th {\n",
       "        text-align: right;\n",
       "    }\n",
       "</style>\n",
       "<table border=\"1\" class=\"dataframe\">\n",
       "  <thead>\n",
       "    <tr style=\"text-align: right;\">\n",
       "      <th></th>\n",
       "      <th>language</th>\n",
       "      <th>dev_acc</th>\n",
       "      <th>min_dev_loss</th>\n",
       "    </tr>\n",
       "  </thead>\n",
       "  <tbody>\n",
       "    <tr>\n",
       "      <th>0</th>\n",
       "      <td>adyghe</td>\n",
       "      <td>0.149563</td>\n",
       "      <td>5.270253e-04</td>\n",
       "    </tr>\n",
       "    <tr>\n",
       "      <th>1</th>\n",
       "      <td>albanian</td>\n",
       "      <td>0.022869</td>\n",
       "      <td>1.865744e-04</td>\n",
       "    </tr>\n",
       "    <tr>\n",
       "      <th>2</th>\n",
       "      <td>arabic</td>\n",
       "      <td>0.015948</td>\n",
       "      <td>9.175529e-05</td>\n",
       "    </tr>\n",
       "    <tr>\n",
       "      <th>3</th>\n",
       "      <td>armenian</td>\n",
       "      <td>0.214584</td>\n",
       "      <td>8.868655e-04</td>\n",
       "    </tr>\n",
       "    <tr>\n",
       "      <th>4</th>\n",
       "      <td>asturian</td>\n",
       "      <td>0.011504</td>\n",
       "      <td>7.760846e-05</td>\n",
       "    </tr>\n",
       "    <tr>\n",
       "      <th>5</th>\n",
       "      <td>azeri</td>\n",
       "      <td>0.210000</td>\n",
       "      <td>1.847064e-03</td>\n",
       "    </tr>\n",
       "    <tr>\n",
       "      <th>6</th>\n",
       "      <td>bashkir</td>\n",
       "      <td>0.005657</td>\n",
       "      <td>7.484287e-05</td>\n",
       "    </tr>\n",
       "    <tr>\n",
       "      <th>7</th>\n",
       "      <td>basque</td>\n",
       "      <td>0.005657</td>\n",
       "      <td>2.243091e-05</td>\n",
       "    </tr>\n",
       "    <tr>\n",
       "      <th>8</th>\n",
       "      <td>belarusian</td>\n",
       "      <td>0.004243</td>\n",
       "      <td>5.291598e-05</td>\n",
       "    </tr>\n",
       "    <tr>\n",
       "      <th>9</th>\n",
       "      <td>bengali</td>\n",
       "      <td>0.106066</td>\n",
       "      <td>6.501044e-04</td>\n",
       "    </tr>\n",
       "    <tr>\n",
       "      <th>10</th>\n",
       "      <td>breton</td>\n",
       "      <td>0.056569</td>\n",
       "      <td>3.923845e-04</td>\n",
       "    </tr>\n",
       "    <tr>\n",
       "      <th>11</th>\n",
       "      <td>bulgarian</td>\n",
       "      <td>0.420021</td>\n",
       "      <td>2.439224e-03</td>\n",
       "    </tr>\n",
       "    <tr>\n",
       "      <th>12</th>\n",
       "      <td>catalan</td>\n",
       "      <td>0.004950</td>\n",
       "      <td>8.516718e-05</td>\n",
       "    </tr>\n",
       "    <tr>\n",
       "      <th>13</th>\n",
       "      <td>classical-syriac</td>\n",
       "      <td>0.021213</td>\n",
       "      <td>5.376239e-05</td>\n",
       "    </tr>\n",
       "    <tr>\n",
       "      <th>14</th>\n",
       "      <td>crimean-tatar</td>\n",
       "      <td>0.021213</td>\n",
       "      <td>1.956579e-04</td>\n",
       "    </tr>\n",
       "    <tr>\n",
       "      <th>15</th>\n",
       "      <td>czech</td>\n",
       "      <td>0.000000</td>\n",
       "      <td>1.643354e-05</td>\n",
       "    </tr>\n",
       "    <tr>\n",
       "      <th>16</th>\n",
       "      <td>danish</td>\n",
       "      <td>0.003536</td>\n",
       "      <td>4.722120e-07</td>\n",
       "    </tr>\n",
       "    <tr>\n",
       "      <th>17</th>\n",
       "      <td>estonian</td>\n",
       "      <td>0.030406</td>\n",
       "      <td>1.967590e-04</td>\n",
       "    </tr>\n",
       "    <tr>\n",
       "      <th>18</th>\n",
       "      <td>faroese</td>\n",
       "      <td>0.012662</td>\n",
       "      <td>3.020743e-05</td>\n",
       "    </tr>\n",
       "    <tr>\n",
       "      <th>19</th>\n",
       "      <td>faroese</td>\n",
       "      <td>0.000000</td>\n",
       "      <td>7.718892e-05</td>\n",
       "    </tr>\n",
       "    <tr>\n",
       "      <th>20</th>\n",
       "      <td>faroese</td>\n",
       "      <td>0.111016</td>\n",
       "      <td>8.769863e-04</td>\n",
       "    </tr>\n",
       "    <tr>\n",
       "      <th>21</th>\n",
       "      <td>finnish</td>\n",
       "      <td>0.102846</td>\n",
       "      <td>9.611079e-04</td>\n",
       "    </tr>\n",
       "    <tr>\n",
       "      <th>22</th>\n",
       "      <td>friulian</td>\n",
       "      <td>0.020817</td>\n",
       "      <td>9.284734e-05</td>\n",
       "    </tr>\n",
       "    <tr>\n",
       "      <th>23</th>\n",
       "      <td>galician</td>\n",
       "      <td>0.041789</td>\n",
       "      <td>1.988428e-04</td>\n",
       "    </tr>\n",
       "    <tr>\n",
       "      <th>24</th>\n",
       "      <td>georgian</td>\n",
       "      <td>0.004163</td>\n",
       "      <td>1.779292e-04</td>\n",
       "    </tr>\n",
       "    <tr>\n",
       "      <th>25</th>\n",
       "      <td>greek</td>\n",
       "      <td>0.026727</td>\n",
       "      <td>2.990683e-04</td>\n",
       "    </tr>\n",
       "    <tr>\n",
       "      <th>26</th>\n",
       "      <td>haida</td>\n",
       "      <td>0.026458</td>\n",
       "      <td>4.281957e-04</td>\n",
       "    </tr>\n",
       "    <tr>\n",
       "      <th>27</th>\n",
       "      <td>hebrew</td>\n",
       "      <td>0.004041</td>\n",
       "      <td>1.603870e-05</td>\n",
       "    </tr>\n",
       "    <tr>\n",
       "      <th>28</th>\n",
       "      <td>hindi</td>\n",
       "      <td>0.144959</td>\n",
       "      <td>9.590732e-04</td>\n",
       "    </tr>\n",
       "    <tr>\n",
       "      <th>29</th>\n",
       "      <td>hungarian</td>\n",
       "      <td>0.210287</td>\n",
       "      <td>1.161853e-03</td>\n",
       "    </tr>\n",
       "    <tr>\n",
       "      <th>...</th>\n",
       "      <td>...</td>\n",
       "      <td>...</td>\n",
       "      <td>...</td>\n",
       "    </tr>\n",
       "    <tr>\n",
       "      <th>51</th>\n",
       "      <td>norwegian-nynorsk</td>\n",
       "      <td>0.010817</td>\n",
       "      <td>5.658832e-05</td>\n",
       "    </tr>\n",
       "    <tr>\n",
       "      <th>52</th>\n",
       "      <td>occitan</td>\n",
       "      <td>0.000000</td>\n",
       "      <td>1.002149e-05</td>\n",
       "    </tr>\n",
       "    <tr>\n",
       "      <th>53</th>\n",
       "      <td>old-armenian</td>\n",
       "      <td>0.028290</td>\n",
       "      <td>2.129158e-05</td>\n",
       "    </tr>\n",
       "    <tr>\n",
       "      <th>54</th>\n",
       "      <td>old-church-slavonic</td>\n",
       "      <td>0.005774</td>\n",
       "      <td>4.554215e-05</td>\n",
       "    </tr>\n",
       "    <tr>\n",
       "      <th>55</th>\n",
       "      <td>old-french</td>\n",
       "      <td>0.008021</td>\n",
       "      <td>5.716891e-05</td>\n",
       "    </tr>\n",
       "    <tr>\n",
       "      <th>56</th>\n",
       "      <td>old-saxon</td>\n",
       "      <td>0.056518</td>\n",
       "      <td>2.632193e-04</td>\n",
       "    </tr>\n",
       "    <tr>\n",
       "      <th>57</th>\n",
       "      <td>pashto</td>\n",
       "      <td>0.000000</td>\n",
       "      <td>9.652413e-06</td>\n",
       "    </tr>\n",
       "    <tr>\n",
       "      <th>58</th>\n",
       "      <td>persian</td>\n",
       "      <td>0.106925</td>\n",
       "      <td>6.041380e-04</td>\n",
       "    </tr>\n",
       "    <tr>\n",
       "      <th>59</th>\n",
       "      <td>portuguese</td>\n",
       "      <td>0.003606</td>\n",
       "      <td>5.624416e-05</td>\n",
       "    </tr>\n",
       "    <tr>\n",
       "      <th>60</th>\n",
       "      <td>quechua</td>\n",
       "      <td>0.002309</td>\n",
       "      <td>2.027296e-05</td>\n",
       "    </tr>\n",
       "    <tr>\n",
       "      <th>61</th>\n",
       "      <td>romanian</td>\n",
       "      <td>0.084071</td>\n",
       "      <td>8.012939e-04</td>\n",
       "    </tr>\n",
       "    <tr>\n",
       "      <th>62</th>\n",
       "      <td>sanskrit</td>\n",
       "      <td>0.054836</td>\n",
       "      <td>2.203868e-04</td>\n",
       "    </tr>\n",
       "    <tr>\n",
       "      <th>63</th>\n",
       "      <td>serbo-croatian</td>\n",
       "      <td>0.146364</td>\n",
       "      <td>7.237128e-04</td>\n",
       "    </tr>\n",
       "    <tr>\n",
       "      <th>64</th>\n",
       "      <td>slovak</td>\n",
       "      <td>0.032192</td>\n",
       "      <td>1.154879e-04</td>\n",
       "    </tr>\n",
       "    <tr>\n",
       "      <th>65</th>\n",
       "      <td>slovene</td>\n",
       "      <td>0.004041</td>\n",
       "      <td>7.146255e-05</td>\n",
       "    </tr>\n",
       "    <tr>\n",
       "      <th>66</th>\n",
       "      <td>sorani</td>\n",
       "      <td>0.276298</td>\n",
       "      <td>1.197247e-03</td>\n",
       "    </tr>\n",
       "    <tr>\n",
       "      <th>67</th>\n",
       "      <td>spanish</td>\n",
       "      <td>0.014640</td>\n",
       "      <td>1.280676e-04</td>\n",
       "    </tr>\n",
       "    <tr>\n",
       "      <th>68</th>\n",
       "      <td>swahili</td>\n",
       "      <td>0.000000</td>\n",
       "      <td>1.614907e-06</td>\n",
       "    </tr>\n",
       "    <tr>\n",
       "      <th>69</th>\n",
       "      <td>swedish</td>\n",
       "      <td>0.292723</td>\n",
       "      <td>1.581197e-03</td>\n",
       "    </tr>\n",
       "    <tr>\n",
       "      <th>70</th>\n",
       "      <td>tatar</td>\n",
       "      <td>0.021213</td>\n",
       "      <td>9.062464e-05</td>\n",
       "    </tr>\n",
       "    <tr>\n",
       "      <th>71</th>\n",
       "      <td>turkish</td>\n",
       "      <td>0.016971</td>\n",
       "      <td>9.484727e-07</td>\n",
       "    </tr>\n",
       "    <tr>\n",
       "      <th>72</th>\n",
       "      <td>ukrainian</td>\n",
       "      <td>0.036770</td>\n",
       "      <td>9.981439e-05</td>\n",
       "    </tr>\n",
       "    <tr>\n",
       "      <th>73</th>\n",
       "      <td>urdu</td>\n",
       "      <td>0.012021</td>\n",
       "      <td>1.523386e-04</td>\n",
       "    </tr>\n",
       "    <tr>\n",
       "      <th>74</th>\n",
       "      <td>uzbek</td>\n",
       "      <td>0.000000</td>\n",
       "      <td>1.475955e-05</td>\n",
       "    </tr>\n",
       "    <tr>\n",
       "      <th>75</th>\n",
       "      <td>venetian</td>\n",
       "      <td>0.001414</td>\n",
       "      <td>2.342515e-05</td>\n",
       "    </tr>\n",
       "    <tr>\n",
       "      <th>76</th>\n",
       "      <td>votic</td>\n",
       "      <td>0.106066</td>\n",
       "      <td>6.058067e-04</td>\n",
       "    </tr>\n",
       "    <tr>\n",
       "      <th>77</th>\n",
       "      <td>welsh</td>\n",
       "      <td>0.021213</td>\n",
       "      <td>8.765925e-04</td>\n",
       "    </tr>\n",
       "    <tr>\n",
       "      <th>78</th>\n",
       "      <td>west-frisian</td>\n",
       "      <td>0.035355</td>\n",
       "      <td>3.242754e-04</td>\n",
       "    </tr>\n",
       "    <tr>\n",
       "      <th>79</th>\n",
       "      <td>yiddish</td>\n",
       "      <td>0.000000</td>\n",
       "      <td>2.634787e-05</td>\n",
       "    </tr>\n",
       "    <tr>\n",
       "      <th>80</th>\n",
       "      <td>zulu</td>\n",
       "      <td>0.000000</td>\n",
       "      <td>2.498743e-06</td>\n",
       "    </tr>\n",
       "  </tbody>\n",
       "</table>\n",
       "<p>81 rows × 3 columns</p>\n",
       "</div>"
      ],
      "text/plain": [
       "               language   dev_acc  min_dev_loss\n",
       "0                adyghe  0.149563  5.270253e-04\n",
       "1              albanian  0.022869  1.865744e-04\n",
       "2                arabic  0.015948  9.175529e-05\n",
       "3              armenian  0.214584  8.868655e-04\n",
       "4              asturian  0.011504  7.760846e-05\n",
       "5                 azeri  0.210000  1.847064e-03\n",
       "6               bashkir  0.005657  7.484287e-05\n",
       "7                basque  0.005657  2.243091e-05\n",
       "8            belarusian  0.004243  5.291598e-05\n",
       "9               bengali  0.106066  6.501044e-04\n",
       "10               breton  0.056569  3.923845e-04\n",
       "11            bulgarian  0.420021  2.439224e-03\n",
       "12              catalan  0.004950  8.516718e-05\n",
       "13     classical-syriac  0.021213  5.376239e-05\n",
       "14        crimean-tatar  0.021213  1.956579e-04\n",
       "15                czech  0.000000  1.643354e-05\n",
       "16               danish  0.003536  4.722120e-07\n",
       "17             estonian  0.030406  1.967590e-04\n",
       "18              faroese  0.012662  3.020743e-05\n",
       "19              faroese  0.000000  7.718892e-05\n",
       "20              faroese  0.111016  8.769863e-04\n",
       "21              finnish  0.102846  9.611079e-04\n",
       "22             friulian  0.020817  9.284734e-05\n",
       "23             galician  0.041789  1.988428e-04\n",
       "24             georgian  0.004163  1.779292e-04\n",
       "25                greek  0.026727  2.990683e-04\n",
       "26                haida  0.026458  4.281957e-04\n",
       "27               hebrew  0.004041  1.603870e-05\n",
       "28                hindi  0.144959  9.590732e-04\n",
       "29            hungarian  0.210287  1.161853e-03\n",
       "..                  ...       ...           ...\n",
       "51    norwegian-nynorsk  0.010817  5.658832e-05\n",
       "52              occitan  0.000000  1.002149e-05\n",
       "53         old-armenian  0.028290  2.129158e-05\n",
       "54  old-church-slavonic  0.005774  4.554215e-05\n",
       "55           old-french  0.008021  5.716891e-05\n",
       "56            old-saxon  0.056518  2.632193e-04\n",
       "57               pashto  0.000000  9.652413e-06\n",
       "58              persian  0.106925  6.041380e-04\n",
       "59           portuguese  0.003606  5.624416e-05\n",
       "60              quechua  0.002309  2.027296e-05\n",
       "61             romanian  0.084071  8.012939e-04\n",
       "62             sanskrit  0.054836  2.203868e-04\n",
       "63       serbo-croatian  0.146364  7.237128e-04\n",
       "64               slovak  0.032192  1.154879e-04\n",
       "65              slovene  0.004041  7.146255e-05\n",
       "66               sorani  0.276298  1.197247e-03\n",
       "67              spanish  0.014640  1.280676e-04\n",
       "68              swahili  0.000000  1.614907e-06\n",
       "69              swedish  0.292723  1.581197e-03\n",
       "70                tatar  0.021213  9.062464e-05\n",
       "71              turkish  0.016971  9.484727e-07\n",
       "72            ukrainian  0.036770  9.981439e-05\n",
       "73                 urdu  0.012021  1.523386e-04\n",
       "74                uzbek  0.000000  1.475955e-05\n",
       "75             venetian  0.001414  2.342515e-05\n",
       "76                votic  0.106066  6.058067e-04\n",
       "77                welsh  0.021213  8.765925e-04\n",
       "78         west-frisian  0.035355  3.242754e-04\n",
       "79              yiddish  0.000000  2.634787e-05\n",
       "80                 zulu  0.000000  2.498743e-06\n",
       "\n",
       "[81 rows x 3 columns]"
      ]
     },
     "execution_count": 98,
     "metadata": {},
     "output_type": "execute_result"
    }
   ],
   "source": [
    "lemma_params = [c for c in experiments.columns if c.startswith('lemma')]\n",
    "tag_params = [c for c in experiments.columns if c.startswith('tag')]\n",
    "inflected_params = [c for c in experiments.columns if c.startswith('inflected')]\n",
    "other_params = ['dropout']\n",
    "params = lemma_params + tag_params + inflected_params + other_params\n",
    "params.append('language')\n",
    "params.append('train_size')\n",
    "\n",
    "uniform_exps = experiments[experiments['lemma_embedding_size'] == 20]\n",
    "dupl_exps = uniform_exps.groupby(params).filter(lambda x: len(x) > 1)\n",
    "dupl_exps.groupby(params)[['dev_acc', 'min_dev_loss']].std().reset_index()[['language', 'dev_acc', 'min_dev_loss']]"
   ]
  },
  {
   "cell_type": "markdown",
   "metadata": {},
   "source": [
    "# Ignore medium and low training data experiments"
   ]
  },
  {
   "cell_type": "code",
   "execution_count": 99,
   "metadata": {},
   "outputs": [],
   "source": [
    "experiments = experiments[experiments['train_size'] == 'high']"
   ]
  },
  {
   "cell_type": "markdown",
   "metadata": {},
   "source": [
    "# 100%"
   ]
  },
  {
   "cell_type": "code",
   "execution_count": 102,
   "metadata": {},
   "outputs": [
    {
     "data": {
      "text/plain": [
       "pashto       3\n",
       "occitan      3\n",
       "kabardian    3\n",
       "swahili      3\n",
       "uzbek        2\n",
       "friulian     1\n",
       "Name: language, dtype: int64"
      ]
     },
     "execution_count": 102,
     "metadata": {},
     "output_type": "execute_result"
    }
   ],
   "source": [
    "experiments[experiments['dev_acc'] == 1]['language'].value_counts()"
   ]
  },
  {
   "cell_type": "markdown",
   "metadata": {},
   "source": [
    "# at least 90% but less than 100%"
   ]
  },
  {
   "cell_type": "code",
   "execution_count": 107,
   "metadata": {},
   "outputs": [
    {
     "data": {
      "text/plain": [
       "language\n",
       "adyghe              0.920\n",
       "asturian            0.951\n",
       "azeri               0.900\n",
       "bashkir             0.983\n",
       "basque              0.987\n",
       "catalan             0.962\n",
       "classical-syriac    0.980\n",
       "crimean-tatar       0.990\n",
       "finnish             0.914\n",
       "friulian            0.990\n",
       "galician            0.987\n",
       "georgian            0.946\n",
       "hebrew              0.974\n",
       "khaling             0.995\n",
       "ladin               0.960\n",
       "lower-sorbian       0.962\n",
       "maltese             0.950\n",
       "middle-french       0.979\n",
       "northern-sami       0.963\n",
       "old-saxon           0.903\n",
       "portuguese          0.970\n",
       "quechua             0.986\n",
       "sanskrit            0.904\n",
       "slovak              0.930\n",
       "tatar               0.980\n",
       "urdu                0.986\n",
       "venetian            0.995\n",
       "welsh               0.960\n",
       "yiddish             0.970\n",
       "zulu                0.988\n",
       "Name: dev_acc, dtype: float64"
      ]
     },
     "execution_count": 107,
     "metadata": {},
     "output_type": "execute_result"
    }
   ],
   "source": [
    "experiments[(experiments.dev_acc >= 0.9) & (experiments.dev_acc < 1)].groupby('language')['dev_acc'].max()"
   ]
  },
  {
   "cell_type": "markdown",
   "metadata": {},
   "source": [
    "# Below 50%"
   ]
  },
  {
   "cell_type": "code",
   "execution_count": 114,
   "metadata": {},
   "outputs": [
    {
     "data": {
      "text/plain": [
       "language\n",
       "haida    0.140\n",
       "hindi    0.413\n",
       "irish    0.233\n",
       "Name: dev_acc, dtype: float64"
      ]
     },
     "execution_count": 114,
     "metadata": {},
     "output_type": "execute_result"
    }
   ],
   "source": [
    "m = experiments.groupby('language')['dev_acc'].max()\n",
    "m[m < 0.5]"
   ]
  },
  {
   "cell_type": "markdown",
   "metadata": {},
   "source": [
    "## Highest dec accuracy per language"
   ]
  },
  {
   "cell_type": "code",
   "execution_count": 29,
   "metadata": {},
   "outputs": [
    {
     "data": {
      "text/plain": [
       "<matplotlib.axes._subplots.AxesSubplot at 0x7ff6923dafd0>"
      ]
     },
     "execution_count": 29,
     "metadata": {},
     "output_type": "execute_result"
    },
    {
     "data": {
      "image/png": "[encoded data removed]",
      "text/plain": [
       "<Figure size 432x288 with 1 Axes>"
      ]
     },
     "metadata": {},
     "output_type": "display_data"
    }
   ],
   "source": [
    "experiments.groupby('language').max()['dev_acc'].sort_values(ascending=False).plot()"
   ]
  },
  {
   "cell_type": "markdown",
   "metadata": {},
   "source": [
    "# Hungarian experiments"
   ]
  },
  {
   "cell_type": "code",
   "execution_count": 39,
   "metadata": {},
   "outputs": [],
   "source": [
    "hun = experiments[experiments.language==\"hungarian\"].copy()"
   ]
  },
  {
   "cell_type": "code",
   "execution_count": 40,
   "metadata": {},
   "outputs": [
    {
     "data": {
      "text/plain": [
       "<matplotlib.axes._subplots.AxesSubplot at 0x7ff693a38cc0>"
      ]
     },
     "execution_count": 40,
     "metadata": {},
     "output_type": "execute_result"
    },
    {
     "data": {
      "image/png": "[encoded data removed]",
      "text/plain": [
       "<Figure size 432x288 with 1 Axes>"
      ]
     },
     "metadata": {},
     "output_type": "display_data"
    }
   ],
   "source": [
    "hun.plot(kind='scatter', x='min_val_loss', y='dev_acc', logx=True)"
   ]
  },
  {
   "cell_type": "code",
   "execution_count": 41,
   "metadata": {},
   "outputs": [
    {
     "data": {
      "text/plain": [
       "'/mnt/permanent/home/judit/projects/deep-morphology/exps/reinflection/0078'"
      ]
     },
     "execution_count": 41,
     "metadata": {},
     "output_type": "execute_result"
    }
   ],
   "source": [
    "hun.loc[hun['dev_acc'].idxmax()]['experiment_dir']"
   ]
  },
  {
   "cell_type": "code",
   "execution_count": 42,
   "metadata": {},
   "outputs": [
    {
     "data": {
      "text/plain": [
       "lemma_embedding_size         20\n",
       "lemma_hidden_size           128\n",
       "lemma_num_layers              3\n",
       "tag_embedding_size           10\n",
       "tag_hidden_size              64\n",
       "tag_num_layers                2\n",
       "inflected_embedding_size     30\n",
       "inflected_hidden_size       128\n",
       "inflected_num_layers          2\n",
       "dropout                     0.2\n",
       "Name: 77, dtype: object"
      ]
     },
     "execution_count": 42,
     "metadata": {},
     "output_type": "execute_result"
    }
   ],
   "source": [
    "lemma_params = [c for c in hun.columns if c.startswith('lemma')]\n",
    "tag_params = [c for c in hun.columns if c.startswith('tag')]\n",
    "inflected_params = [c for c in hun.columns if c.startswith('inflected')]\n",
    "other_params = ['dropout']\n",
    "params = lemma_params + tag_params + inflected_params + other_params\n",
    "\n",
    "hun.loc[hun['dev_acc'].idxmax()].loc[params]"
   ]
  },
  {
   "cell_type": "code",
   "execution_count": 43,
   "metadata": {},
   "outputs": [],
   "source": [
    "hun['lemma_neurons'] = hun['lemma_num_layers'] * hun['lemma_hidden_size']\n",
    "hun['tag_neurons'] = hun['tag_num_layers'] * hun['tag_hidden_size']\n",
    "hun['inflected_neurons'] = hun['inflected_num_layers'] * hun['inflected_hidden_size']\n",
    "hun['sum_neurons'] = hun['lemma_neurons'] + hun['tag_neurons'] + hun['inflected_neurons']"
   ]
  },
  {
   "cell_type": "code",
   "execution_count": 44,
   "metadata": {},
   "outputs": [
    {
     "data": {
      "text/plain": [
       "<matplotlib.axes._subplots.AxesSubplot at 0x7ff691c8a940>"
      ]
     },
     "execution_count": 44,
     "metadata": {},
     "output_type": "execute_result"
    },
    {
     "data": {
      "image/png": "[encoded data removed]",
      "text/plain": [
       "<Figure size 432x288 with 1 Axes>"
      ]
     },
     "metadata": {},
     "output_type": "display_data"
    }
   ],
   "source": [
    "hun.plot(kind='scatter', x='sum_neurons', y='dev_acc')"
   ]
  },
  {
   "cell_type": "code",
   "execution_count": 45,
   "metadata": {},
   "outputs": [
    {
     "data": {
      "text/plain": [
       "dropout\n",
       "0.0    0.833\n",
       "0.1    0.844\n",
       "0.2    0.850\n",
       "0.3    0.847\n",
       "0.4    0.845\n",
       "0.5    0.843\n",
       "0.8    0.545\n",
       "Name: dev_acc, dtype: float64"
      ]
     },
     "execution_count": 45,
     "metadata": {},
     "output_type": "execute_result"
    }
   ],
   "source": [
    "hun.groupby('dropout').max()['dev_acc']"
   ]
  },
  {
   "cell_type": "code",
   "execution_count": 46,
   "metadata": {},
   "outputs": [
    {
     "data": {
      "text/plain": [
       "<matplotlib.axes._subplots.AxesSubplot at 0x7ff691bca240>"
      ]
     },
     "execution_count": 46,
     "metadata": {},
     "output_type": "execute_result"
    },
    {
     "data": {
      "image/png": "[encoded data removed]",
      "text/plain": [
       "<Figure size 432x288 with 1 Axes>"
      ]
     },
     "metadata": {},
     "output_type": "display_data"
    }
   ],
   "source": [
    "hun.plot(kind='scatter', x='running_time', y='dev_acc')"
   ]
  },
  {
   "cell_type": "code",
   "execution_count": 47,
   "metadata": {},
   "outputs": [
    {
     "data": {
      "text/plain": [
       "<matplotlib.axes._subplots.AxesSubplot at 0x7ff691c38ac8>"
      ]
     },
     "execution_count": 47,
     "metadata": {},
     "output_type": "execute_result"
    },
    {
     "data": {
      "image/png": "[encoded data removed]",
      "text/plain": [
       "<Figure size 432x288 with 1 Axes>"
      ]
     },
     "metadata": {},
     "output_type": "display_data"
    }
   ],
   "source": [
    "hun.plot(kind='scatter', x='dropout', y='dev_acc')"
   ]
  },
  {
   "cell_type": "markdown",
   "metadata": {},
   "source": [
    "# Sparse models\n",
    "\n",
    "L1 regularization"
   ]
  },
  {
   "cell_type": "code",
   "execution_count": 54,
   "metadata": {},
   "outputs": [],
   "source": [
    "l1_reg_models = load_res_dir(\"../exps/sigmorphon_2018/l1_reg/\", include_sparsity=True)"
   ]
  },
  {
   "cell_type": "code",
   "execution_count": 55,
   "metadata": {},
   "outputs": [
    {
     "data": {
      "text/plain": [
       "<matplotlib.axes._subplots.AxesSubplot at 0x7ff691b2d898>"
      ]
     },
     "execution_count": 55,
     "metadata": {},
     "output_type": "execute_result"
    },
    {
     "data": {
      "image/png": "[encoded data removed]",
      "text/plain": [
       "<Figure size 432x288 with 1 Axes>"
      ]
     },
     "metadata": {},
     "output_type": "display_data"
    }
   ],
   "source": [
    "l1_reg_models.plot(kind='scatter', x='sparsity_ratio', y='dev_acc')"
   ]
  },
  {
   "cell_type": "code",
   "execution_count": null,
   "metadata": {},
   "outputs": [],
   "source": []
  },
  {
   "cell_type": "code",
   "execution_count": null,
   "metadata": {},
   "outputs": [],
   "source": []
  }
 ],
 "metadata": {
  "kernelspec": {
   "display_name": "Python 3",
   "language": "python",
   "name": "python3"
  },
  "language_info": {
   "codemirror_mode": {
    "name": "ipython",
    "version": 3
   },
   "file_extension": ".py",
   "mimetype": "text/x-python",
   "name": "python",
   "nbconvert_exporter": "python",
   "pygments_lexer": "ipython3",
   "version": "3.6.5"
  }
 },
 "nbformat": 4,
 "nbformat_minor": 2
}
